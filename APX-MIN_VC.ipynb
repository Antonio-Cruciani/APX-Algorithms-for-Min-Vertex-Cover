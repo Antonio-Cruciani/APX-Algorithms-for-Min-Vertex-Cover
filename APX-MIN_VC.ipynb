{
 "cells": [
  {
   "cell_type": "markdown",
   "metadata": {},
   "source": [
    "# Nome: Antonio Cruciani                Matricola : 0258412 "
   ]
  },
  {
   "cell_type": "markdown",
   "metadata": {},
   "source": [
    "# Esercizio 3 "
   ]
  },
  {
   "cell_type": "code",
   "execution_count": 2,
   "metadata": {
    "collapsed": true
   },
   "outputs": [],
   "source": [
    "import copy \n",
    "import itertools\n",
    "import time\n",
    "import sys\n",
    "import matplotlib.pyplot as plt"
   ]
  },
  {
   "cell_type": "code",
   "execution_count": 3,
   "metadata": {
    "collapsed": false
   },
   "outputs": [
    {
     "name": "stdout",
     "output_type": "stream",
     "text": [
      "2.7.12 |Anaconda 4.1.1 (x86_64)| (default, Jul  2 2016, 17:43:17) \n",
      "[GCC 4.2.1 (Based on Apple Inc. build 5658) (LLVM build 2336.11.00)]\n"
     ]
    }
   ],
   "source": [
    "print sys.version"
   ]
  },
  {
   "cell_type": "markdown",
   "metadata": {
    "collapsed": false
   },
   "source": [
    "## Versione di python utilizzata \n",
    "2.7.12 |Anaconda 4.1.1 (x86_64)| (default, Jul  2 2016, 17:43:17) \n",
    "[GCC 4.2.1 (Based on Apple Inc. build 5658) (LLVM build 2336.11.00)]"
   ]
  },
  {
   "cell_type": "markdown",
   "metadata": {},
   "source": [
    "## Definizione della struttura dati Grafo e delle funzioni per leggere e scrivere su file"
   ]
  },
  {
   "cell_type": "code",
   "execution_count": 4,
   "metadata": {
    "collapsed": false
   },
   "outputs": [],
   "source": [
    "#Struttura dati per grafo (Lista di adiacenza)\n",
    "class Graph:\n",
    "\n",
    "    def __init__(self, vertices, is_undirected=True):\n",
    "        self.__v = vertices  # numero di vertici\n",
    "        self.__edge_list = []  # salva gli archi e gli eventuali pesi (non serve)\n",
    "        self.__is_undirected = is_undirected # Valore = True per grafi non diretti\n",
    "        #self.__adj_matrix = None \n",
    "        self.__adj_list = None # Lista di adiacenza\n",
    "        self.__vertici = []#Insieme dei vertici che sono collegati da nodi (non disconnessi)\n",
    "        self.__covers = [] #Insieme dei nodi coperti \n",
    "        \n",
    "    # Metodo che permette di aggiungere un nuvo aro al grafo\n",
    "    def add_edge(self, u, v, w=None):\n",
    "        self.__edge_list.append([u, v, w if w else 1])\n",
    "        # Se G non è un Digrafo, \n",
    "        # copia gli archi nella direzione opposta\n",
    "        if self.__is_undirected:\n",
    "            self.__edge_list.append([v, u, w if w else 1])\n",
    "\n",
    "    # Metodo che costruisce la lista di adiacenza\n",
    "    def make_adjacency_list(self):\n",
    "        adj_list = {key: [] for key in range(self.__v)}\n",
    "        for edge in self.__edge_list:\n",
    "            # Dove edge[1] è  la destinazione ed un eventuale edge[2] il peso\n",
    "            edge_val = {edge[1]} \n",
    "            adj_list[edge[0]].append(edge_val)\n",
    "        self.__adj_list = adj_list\n",
    "        vertici = list()\n",
    "        for keyvalue in self.__adj_list.items():\n",
    "            if len(keyvalue[1])!=0: \n",
    "                vertici.append(keyvalue[0])\n",
    "        self.__vertici = vertici\n",
    "        \n",
    "    # Metodo che ritorna la lista dei vertici\n",
    "    def get_vertex_list(self):\n",
    "        vertici = list()\n",
    "        \n",
    "        adj_list = self.get_adj_list()\n",
    "        for key in range(self.__v):\n",
    "            if len(adj_list[key])!=0: \n",
    "                vertici.append(key)\n",
    "               \n",
    "        self.__vertici = vertici\n",
    "        \n",
    "    #Metodo che inizializza il cover di tutti i nodi a falso\n",
    "    def set_false_cover_list(self):\n",
    "        vertici = list()\n",
    "        adj_list = self.get_adj_list()\n",
    "        for key in range(self.__v):\n",
    "\n",
    "            if(len(adj_list[key])!=0):\n",
    "                vertici.append([key])\n",
    "                \n",
    "        for i in range(0,len(vertici)):\n",
    "            vertici[i].append(\"False\")\n",
    "        self.__covers=vertici\n",
    "        #print vertici\n",
    "    # Metodo che ritorna la lista dei nodi coperti    \n",
    "    def get_cover_list(self):\n",
    "        return self.__covers\n",
    "    \n",
    "    #Metodo che marca il nodo scelto e marca gli archi\n",
    "    def cover(self,lista_nodi):\n",
    "        #print self.__covers\n",
    "        for i in lista_nodi:\n",
    "            self.__covers[i]=\"True\"\n",
    "            \n",
    "        return self.__covers\n",
    "    \n",
    "    #Il seguente metodo ritorna la lista di adiacenza \n",
    "    def get_adj_list(self):\n",
    "        return self.__adj_list\n",
    "    \n",
    "    #Il seguente metodo permette di eliminare un nodo dalla lista di adiacenza\n",
    "    def remove_edge(self,u):\n",
    "        del self.__adj_list[u]\n",
    "        adj={key:[]for key in range(self.__v)}\n",
    "        #print adj\n",
    "        for k, v in self.__adj_list.items():\n",
    "            for h in v:\n",
    "                if not(u in h):\n",
    "                    #print \"chiave=\",k,\"valore=\", v\n",
    "                    #print h\n",
    "                    adj[k].append(h)\n",
    "                    #print adj[k]\n",
    "        #print \" stampo adj\"\n",
    "        #print adj\n",
    "        #print type(adj)\n",
    "        self.__adj_list = adj\n",
    "        #print self.__adj_list\n",
    "        \n",
    "    # Metodo che ritorna la lunghezza della lista definita sul nodo u\n",
    "    # Ovvero metodo che permette di calcolare il grado del nodo u\n",
    "    def get_lenvalues(self,u):\n",
    "        return len(self.__adj_list[u])\n",
    "    def get_vertex_list(self):\n",
    "        return self.__vertici\n",
    "    \n",
    "    # Metodo che ritorna la chiave della lista di adiacenza che ha il maggior numero di valori nella lista\n",
    "    # Ovvero, il nodo con grado maggiore.\n",
    "    def get_key_max_degree(self):\n",
    "        l = 0\n",
    "        k = 0\n",
    "        for keyvalue in self.__adj_list.items():\n",
    "            key, value = keyvalue[0], keyvalue[1]\n",
    "            #print key,value,len(value)\n",
    "            if len(value) >= l:\n",
    "                l = len(value)\n",
    "                k = key\n",
    "        return k\n",
    "        #return self.__adj_list[max(len(self.__adj_list))]\n",
    "\n",
    "    # Metodo che ritorna il grado del nodo di grado massimo\n",
    "    def get_value_max_degree(self):\n",
    "        l = 0\n",
    "        k = 0\n",
    "        for keyvalue in self.__adj_list.items():\n",
    "            value = keyvalue[1]\n",
    "            #print key,value,len(value)\n",
    "            if len(value) >= l:\n",
    "                l = len(value)\n",
    "        return l\n",
    "        \n",
    "    #Metodo che ritorna due nodi qualsiasi connessi tra di loro\n",
    "    def get_node(self):\n",
    "        for keyvalue in self.__adj_list.items():\n",
    "            if len(keyvalue[1])!=0:\n",
    "                #print keyvalue[1]\n",
    "                return keyvalue[0],keyvalue[1][0]\n",
    "    \n",
    "#Funzione che legge i parametri di input dal file input.txt e costruisce l'istanza G=(V,E)      \n",
    "def get_input_param(path = None):\n",
    "    vertices=list()\n",
    "    if(path == None):\n",
    "        source = 'input.txt'\n",
    "    else:\n",
    "        source = path\n",
    "        #print path\n",
    "    with open(source,'r') as f:\n",
    "        #j=0\n",
    "        i=0\n",
    "        for line in f:\n",
    "            #print line\n",
    "            k=list()\n",
    "            j=0\n",
    "            for word in line.split():\n",
    "                if j == 0 and i ==0:\n",
    "                    n = int(word)\n",
    "                    G = Graph(n)\n",
    "                elif j == 1 and i == 0:\n",
    "                    m = int(word)\n",
    "                else: \n",
    "                    if word != line.split():\n",
    "                        k.append(int(word)) \n",
    "\n",
    "                j+=1\n",
    "            if i>0:\n",
    "                if len(k)>0:\n",
    "                    G.add_edge(int(k[0]),int(k[1]))\n",
    "            i+=1\n",
    "        G.make_adjacency_list()\n",
    "        G.get_vertex_list()\n",
    "        G.set_false_cover_list()\n",
    "        return G\n",
    "# Funzione che scrive i risultati sul file output.txt o su un file output riguardante una classe di grafo random  \n",
    "def write_on_file_results(solution,Greedy = False, Matching = False, Bforce = False,path= None,d=None):\n",
    "    if(Greedy == False and Matching == False and Bforce == False and path== False and d==None):\n",
    "        return -1\n",
    "    if(Greedy == True and Matching == False and Bforce == False and path== None and d==None):\n",
    "        outF = open(\"OutputGreedy.txt\", \"w\")\n",
    "    if(Matching == True and Greedy == False and Bforce == False and path== None and d==None):\n",
    "        outF = open(\"OutputMatching.txt\", \"w\")\n",
    "    if(Matching == False and Greedy == False and Bforce == True and path== None and d==None):\n",
    "        outF = open(\"OutputBruteForce.txt\", \"w\")\n",
    "    if(Greedy == False and Matching == False and Bforce == False and path != None and d!=None):\n",
    "        return -1\n",
    "    if(Greedy == True and Matching == False and Bforce == False and path != None and d!=None):\n",
    "        outF = open(path+\"OutputGreedy_\"+d, \"w\")\n",
    "    if(Matching == True and Greedy == False and Bforce == False and path != None and d!=None):\n",
    "        outF = open(path+\"OutputMatching_\"+d, \"w\")\n",
    "    if(Matching == False and Greedy == False and Bforce == True and path != None and d!=None):\n",
    "        outF = open(path+\"OutputBruteForce_\"+d, \"w\")\n",
    "    s = map(str, solution) \n",
    "    k = [str(len(solution))]\n",
    "    \n",
    "    textList =k+s\n",
    "    #print textList\n",
    "    for line in textList:\n",
    "        outF.write(line)\n",
    "        outF.write(\"\\n\")\n",
    "    outF.close()    \n",
    "   \n",
    "\n",
    "\n",
    " # Funzione che ritorna l'inseme delle parti di una lista\n",
    "def get_power_set(s):\n",
    "    power_set=[[]]\n",
    "    for elem in s:\n",
    "    # iterate over the sub sets so far\n",
    "        for sub_set in power_set:\n",
    "              # add a new subset consisting of the subset at hand added elem\n",
    "            power_set=power_set+[list(sub_set)+[elem]]\n",
    "    power_set.pop(0)\n",
    "    return power_set\n",
    "\n",
    "# print sorted solutions\n",
    "def get_sorted_solutions(lista):\n",
    "    h = sorted(lista, key=lambda x: x[1])\n",
    "    for i in range(0,4):\n",
    "        print li[i][0:2]\n",
    "# Funzione che stampa le soluzioni dei due algoritmi: greedy e matching\n",
    "def print_solutions(lista_1,lista_2):\n",
    "    n =['50','100','500','1000']\n",
    "\n",
    "    print \"+n----------Greedy------------Matching-------------+\"\n",
    "    for i in range(0,4):\n",
    "            print n[i],\"----------\",lista_1[i][1],\"------------\",lista_2[i][1],\"-------------|\"\n",
    "    print \"+---------------------------------------------------+\""
   ]
  },
  {
   "cell_type": "markdown",
   "metadata": {},
   "source": [
    "## Algortimo Greedy per la risoluzione del Vertex Cover"
   ]
  },
  {
   "cell_type": "code",
   "execution_count": 5,
   "metadata": {
    "collapsed": false
   },
   "outputs": [],
   "source": [
    "def GreedyMinVertexCover(source = None):\n",
    "    G= get_input_param(source)\n",
    "    G.get_adj_list()\n",
    "    S = list()\n",
    "    start = time.time()\n",
    "    while len(G.get_adj_list())!=0:\n",
    "            k = G.get_key_max_degree()\n",
    "            #print k\n",
    "            #print G.get_adj_list()\n",
    "            if G.get_lenvalues(k) != 0:\n",
    "                S.append(k)\n",
    "            else:\n",
    "                break\n",
    "            G.remove_edge(k)\n",
    "            #print G.get_adj_list()\n",
    "    stop = time.time()\n",
    "    duration = stop-start\n",
    "    print \"Il min Vertex Cover è =\",S,\"La sua cardinalità è =\",len(S),\"L'algoritmo Greedy Min Vertex Cover ha impiegato = \",duration\n",
    "    return S,duration"
   ]
  },
  {
   "cell_type": "markdown",
   "metadata": {},
   "source": [
    "## Algoritmo di Matching per Vertex Cover"
   ]
  },
  {
   "cell_type": "code",
   "execution_count": 6,
   "metadata": {
    "collapsed": false
   },
   "outputs": [],
   "source": [
    "def Matching(source = None):\n",
    "    \n",
    "    G = get_input_param(source)\n",
    "    \n",
    "    S =list()\n",
    "    \n",
    "    start=time.time()\n",
    "    while G.get_lenvalues(G.get_key_max_degree()) !=0:\n",
    "        #print G.get_adj_list()\n",
    "        u,v1 = G.get_node()\n",
    "        \n",
    "        v = list(v1)\n",
    "        p = int(v[0])\n",
    "\n",
    "        G.remove_edge(u)\n",
    "        G.remove_edge(p)\n",
    "        S.append(u)\n",
    "        S.append(p)\n",
    "    stop = time.time()\n",
    "    duration = stop-start\n",
    "    print \"Il min Vertex Cover è =\",S,\" La sua cardinalità è =\",len(S),\"L'algoritmo Matching Min Vertex Cover ha impiegato = \",duration\n",
    "    return S,duration\n",
    "        \n",
    "        "
   ]
  },
  {
   "cell_type": "markdown",
   "metadata": {},
   "source": [
    "## Algoritmo Esaustivo per Vertex Cover"
   ]
  },
  {
   "cell_type": "code",
   "execution_count": 7,
   "metadata": {
    "collapsed": false
   },
   "outputs": [],
   "source": [
    "def MinVertexCoverExhaustive(source = None):\n",
    "    G = get_input_param(source)\n",
    "    #Generazione dell'insieme delle parti \n",
    "    ps = get_power_set(G.get_vertex_list())\n",
    "    j=0\n",
    "    k= float(\"inf\")\n",
    "    start = time.time()\n",
    "    for i in ps:\n",
    "        grafo=get_input_param(source)\n",
    "        #print grafo.get_adj_list()\n",
    "        #i.remove_edge(u)\n",
    "        #print ps[j]\n",
    "        for c in ps[j]:\n",
    "            grafo.remove_edge(c)\n",
    "            \n",
    "        grafo.cover(ps[j])\n",
    "        \n",
    "        if grafo.get_value_max_degree() == 0:\n",
    "            \n",
    "            if k>len(ps[j]):\n",
    "                k=len(ps[j])\n",
    "                index = j\n",
    "        j+=1\n",
    "    stop = time.time()\n",
    "    duration = stop-start\n",
    "    print \"Il min Vertex Cover è =\",ps[index],\"La sua cardinalità è =\",k,\" Il tempo impiegato dall'algoritmo esaustivo è =\",duration\n",
    "    return ps[index],duration\n",
    "    \n",
    "   \n",
    "    "
   ]
  },
  {
   "cell_type": "markdown",
   "metadata": {},
   "source": [
    "## Esecuzione dei tre Algoritmi"
   ]
  },
  {
   "cell_type": "code",
   "execution_count": 9,
   "metadata": {
    "collapsed": false
   },
   "outputs": [
    {
     "name": "stdout",
     "output_type": "stream",
     "text": [
      "Il min Vertex Cover è = [0, 4, 3] La sua cardinalità è = 3 L'algoritmo Greedy Min Vertex Cover ha impiegato =  0.000123977661133\n",
      "Il min Vertex Cover è = [0, 1, 2, 4]  La sua cardinalità è = 4 L'algoritmo Matching Min Vertex Cover ha impiegato =  5.79357147217e-05\n"
     ]
    }
   ],
   "source": [
    "sol_gmvc,dur_g = GreedyMinVertexCover()\n",
    "match,dur_m = Matching()\n"
   ]
  },
  {
   "cell_type": "code",
   "execution_count": 120,
   "metadata": {
    "collapsed": false
   },
   "outputs": [
    {
     "name": "stdout",
     "output_type": "stream",
     "text": [
      "Il min Vertex Cover è = [0, 2, 3, 4] La sua cardinalità è = 4  Il tempo impiegato dall'algoritmo esaustivo è = 0.0719020366669\n"
     ]
    }
   ],
   "source": [
    "# Esecuzione dell' algoritmo esaustivo\n",
    "BF,dur_b = MinVertexCoverExhaustive()"
   ]
  },
  {
   "cell_type": "markdown",
   "metadata": {},
   "source": [
    "## Scrittura dei risultati su file\n",
    "### Greedy -> outuputGreedy.txt\n",
    "### Matching -> outputMatching.txt\n",
    "### Brute Force -> outputBruteForce.txt"
   ]
  },
  {
   "cell_type": "code",
   "execution_count": 11,
   "metadata": {
    "collapsed": false
   },
   "outputs": [],
   "source": [
    "write_on_file_results(sol_gmvc,Greedy = True)\n",
    "write_on_file_results(match,Matching = True)\n",
    "write_on_file_results(BF,Bforce = True)"
   ]
  },
  {
   "cell_type": "markdown",
   "metadata": {},
   "source": [
    "# Comparazione performance dei tre algoritmi su input.txt"
   ]
  },
  {
   "cell_type": "code",
   "execution_count": 122,
   "metadata": {
    "collapsed": false
   },
   "outputs": [],
   "source": [
    "l=[[\"Durata Greedy\",dur_g],[\"Durata Matching\",dur_m],[\"Durata Bruteforce\",dur_b]]"
   ]
  },
  {
   "cell_type": "code",
   "execution_count": 123,
   "metadata": {
    "collapsed": false
   },
   "outputs": [
    {
     "data": {
      "text/plain": [
       "[['Durata Matching', 5.793571472167969e-05],\n",
       " ['Durata Bruteforce', 0.07190203666687012],\n",
       " ['Durata Greedy', 1.3217549324035645]]"
      ]
     },
     "execution_count": 123,
     "metadata": {},
     "output_type": "execute_result"
    }
   ],
   "source": [
    "sorted(l, key=lambda x: x[1])"
   ]
  },
  {
   "cell_type": "markdown",
   "metadata": {},
   "source": [
    "## Test Bruteforce con istanza dandom con P=$\\frac{1}{2}$ ed n=20"
   ]
  },
  {
   "cell_type": "code",
   "execution_count": 10,
   "metadata": {
    "collapsed": false
   },
   "outputs": [
    {
     "ename": "KeyboardInterrupt",
     "evalue": "",
     "output_type": "error",
     "traceback": [
      "\u001b[0;31m---------------------------------------------------------------------------\u001b[0m",
      "\u001b[0;31mKeyboardInterrupt\u001b[0m                         Traceback (most recent call last)",
      "\u001b[0;32m<ipython-input-10-b0b709551467>\u001b[0m in \u001b[0;36m<module>\u001b[0;34m()\u001b[0m\n\u001b[0;32m----> 1\u001b[0;31m \u001b[0mBF\u001b[0m\u001b[0;34m,\u001b[0m\u001b[0mdur_b\u001b[0m \u001b[0;34m=\u001b[0m \u001b[0mMinVertexCoverExhaustive\u001b[0m\u001b[0;34m(\u001b[0m\u001b[0;34m\"RandomGraphs/un/bf/input_20.txt\"\u001b[0m\u001b[0;34m)\u001b[0m\u001b[0;34m\u001b[0m\u001b[0m\n\u001b[0m",
      "\u001b[0;32m<ipython-input-7-8bd4f91f0c1a>\u001b[0m in \u001b[0;36mMinVertexCoverExhaustive\u001b[0;34m(source)\u001b[0m\n\u001b[1;32m      2\u001b[0m     \u001b[0mG\u001b[0m \u001b[0;34m=\u001b[0m \u001b[0mget_input_param\u001b[0m\u001b[0;34m(\u001b[0m\u001b[0msource\u001b[0m\u001b[0;34m)\u001b[0m\u001b[0;34m\u001b[0m\u001b[0m\n\u001b[1;32m      3\u001b[0m     \u001b[0;31m#Generazione dell'insieme delle parti\u001b[0m\u001b[0;34m\u001b[0m\u001b[0;34m\u001b[0m\u001b[0m\n\u001b[0;32m----> 4\u001b[0;31m     \u001b[0mps\u001b[0m \u001b[0;34m=\u001b[0m \u001b[0mget_power_set\u001b[0m\u001b[0;34m(\u001b[0m\u001b[0mG\u001b[0m\u001b[0;34m.\u001b[0m\u001b[0mget_vertex_list\u001b[0m\u001b[0;34m(\u001b[0m\u001b[0;34m)\u001b[0m\u001b[0;34m)\u001b[0m\u001b[0;34m\u001b[0m\u001b[0m\n\u001b[0m\u001b[1;32m      5\u001b[0m     \u001b[0mj\u001b[0m\u001b[0;34m=\u001b[0m\u001b[0;36m0\u001b[0m\u001b[0;34m\u001b[0m\u001b[0m\n\u001b[1;32m      6\u001b[0m     \u001b[0mk\u001b[0m\u001b[0;34m=\u001b[0m \u001b[0mfloat\u001b[0m\u001b[0;34m(\u001b[0m\u001b[0;34m\"inf\"\u001b[0m\u001b[0;34m)\u001b[0m\u001b[0;34m\u001b[0m\u001b[0m\n",
      "\u001b[0;32m<ipython-input-4-24d08d4ba364>\u001b[0m in \u001b[0;36mget_power_set\u001b[0;34m(s)\u001b[0m\n\u001b[1;32m    201\u001b[0m         \u001b[0;32mfor\u001b[0m \u001b[0msub_set\u001b[0m \u001b[0;32min\u001b[0m \u001b[0mpower_set\u001b[0m\u001b[0;34m:\u001b[0m\u001b[0;34m\u001b[0m\u001b[0m\n\u001b[1;32m    202\u001b[0m               \u001b[0;31m# add a new subset consisting of the subset at hand added elem\u001b[0m\u001b[0;34m\u001b[0m\u001b[0;34m\u001b[0m\u001b[0m\n\u001b[0;32m--> 203\u001b[0;31m             \u001b[0mpower_set\u001b[0m\u001b[0;34m=\u001b[0m\u001b[0mpower_set\u001b[0m\u001b[0;34m+\u001b[0m\u001b[0;34m[\u001b[0m\u001b[0mlist\u001b[0m\u001b[0;34m(\u001b[0m\u001b[0msub_set\u001b[0m\u001b[0;34m)\u001b[0m\u001b[0;34m+\u001b[0m\u001b[0;34m[\u001b[0m\u001b[0melem\u001b[0m\u001b[0;34m]\u001b[0m\u001b[0;34m]\u001b[0m\u001b[0;34m\u001b[0m\u001b[0m\n\u001b[0m\u001b[1;32m    204\u001b[0m     \u001b[0mpower_set\u001b[0m\u001b[0;34m.\u001b[0m\u001b[0mpop\u001b[0m\u001b[0;34m(\u001b[0m\u001b[0;36m0\u001b[0m\u001b[0;34m)\u001b[0m\u001b[0;34m\u001b[0m\u001b[0m\n\u001b[1;32m    205\u001b[0m     \u001b[0;32mreturn\u001b[0m \u001b[0mpower_set\u001b[0m\u001b[0;34m\u001b[0m\u001b[0m\n",
      "\u001b[0;31mKeyboardInterrupt\u001b[0m: "
     ]
    }
   ],
   "source": [
    "BF,dur_b = MinVertexCoverExhaustive(\"RandomGraphs/un/bf/input_20.txt\")"
   ]
  },
  {
   "cell_type": "markdown",
   "metadata": {},
   "source": [
    "L'algoritmo impiega più di 10 secondi"
   ]
  },
  {
   "cell_type": "markdown",
   "metadata": {
    "collapsed": false
   },
   "source": [
    "# Test delle performance su grafi random"
   ]
  },
  {
   "cell_type": "markdown",
   "metadata": {},
   "source": [
    "Verranno creati dei files di output situati nella cartella Outputs"
   ]
  },
  {
   "cell_type": "markdown",
   "metadata": {
    "collapsed": false
   },
   "source": [
    "## Esecuzione su grafi con n = 50, 100, 500 ,1000 e p = $\\frac{1}{2}$"
   ]
  },
  {
   "cell_type": "markdown",
   "metadata": {},
   "source": []
  },
  {
   "cell_type": "code",
   "execution_count": 43,
   "metadata": {
    "collapsed": true
   },
   "outputs": [],
   "source": [
    "n=[50,100,200,500,1000]"
   ]
  },
  {
   "cell_type": "code",
   "execution_count": 98,
   "metadata": {
    "collapsed": false
   },
   "outputs": [
    {
     "name": "stdout",
     "output_type": "stream",
     "text": [
      "Il min Vertex Cover è = [1, 23, 41, 31, 37, 25, 10, 32, 16, 30, 4, 22, 18, 49, 43, 42, 40, 44, 19, 35, 12, 9, 27, 11, 8, 34, 13, 45, 21, 33, 7, 48, 39, 0, 15, 14, 38, 28, 2, 46, 20, 26, 6, 5, 17, 47, 36, 29] La sua cardinalità è = 48 L'algoritmo Greedy Min Vertex Cover ha impiegato =  0.0522010326385\n",
      "Il min Vertex Cover è = [73, 24, 46, 9, 7, 85, 61, 4, 76, 33, 10, 45, 75, 91, 56, 29, 74, 53, 96, 31, 20, 12, 70, 57, 86, 71, 50, 40, 17, 3, 68, 18, 88, 22, 90, 26, 89, 84, 16, 37, 78, 30, 14, 34, 80, 13, 38, 32, 95, 43, 47, 2, 15, 51, 94, 59, 44, 64, 60, 87, 25, 81, 66, 62, 27, 23, 39, 35, 54, 48, 55, 52, 6, 0, 67, 72, 63, 36, 99, 19, 5, 28, 21, 8, 97, 77, 82, 1, 11, 92, 93, 69, 65, 42, 49, 98, 41, 83] La sua cardinalità è = 98 L'algoritmo Greedy Min Vertex Cover ha impiegato =  0.479500055313\n",
      "Il min Vertex Cover è = [2, 90, 17, 29, 9, 66, 6, 26, 105, 35, 69, 54, 111, 79, 1, 89, 44, 31, 113, 81, 13, 27, 115, 52, 3, 112, 53, 10, 51, 97, 62, 41, 92, 84, 55, 99, 102, 85, 78, 24, 45, 38, 101, 40, 96, 82, 58, 42, 65, 86, 110, 98, 0, 25, 5, 91, 48, 106, 61, 114, 88, 32, 76, 68, 56, 20, 4, 8, 67, 103, 87, 93, 19, 21, 22, 108, 34, 80, 43, 107, 77, 70, 73, 18, 36, 12, 39, 59, 28, 72, 109, 30, 63, 46, 11, 71, 75, 100, 95, 15, 74, 104, 64, 14, 47, 57, 37, 33, 83, 50, 16, 94, 49, 60, 23, 7, 290, 283, 324, 216, 207, 210, 149, 158, 117, 171, 304, 202, 252, 132, 318, 172, 244, 238, 292, 271, 254, 316, 146, 137, 166, 269, 168, 174, 163, 228, 314, 272, 178, 128, 123, 217, 170, 205, 203, 157, 240, 286, 143, 237, 159, 276, 187, 299, 296, 242, 273, 300, 179, 282, 227, 193, 224, 215, 327, 243, 138, 306, 265, 200, 176, 230, 173, 129, 116, 288, 206, 198, 248, 253, 189, 219, 279, 142, 188, 196, 194, 190, 182, 162, 268, 133, 169, 326, 332, 311, 297, 281, 293, 144, 236, 139, 325, 195, 334, 231, 211, 141, 220, 310, 257, 124, 183, 313, 134, 333, 192, 307, 214, 249, 229, 191, 241, 165, 303, 323, 251, 294, 270, 262, 260, 275, 258, 226, 255, 164, 250, 312, 225, 309, 267, 185, 287, 261, 125, 121, 266, 135, 289, 315, 154, 153, 122, 118, 127, 285, 152, 181, 274, 140, 319, 245, 175, 317, 209, 222, 120, 321, 234, 330, 184, 160, 278, 320, 263, 167, 232, 295, 239, 131, 256, 150, 221, 213, 204, 156, 331, 199, 218, 145, 148, 305, 284, 180, 259, 161, 147, 329, 126, 155, 328, 246, 136, 235, 233, 280, 212, 223, 298, 322, 308, 277, 208, 151, 186, 301, 201, 247, 291, 264, 197, 177, 130, 119, 302, 369, 401, 361, 359, 341, 428, 358, 355, 340, 347, 394, 343, 416, 423, 338, 350, 360, 421, 377, 374, 357, 419, 403, 344, 429, 381, 386, 352, 400, 379, 424, 363, 368, 364, 393, 427, 337, 380, 391, 407, 390, 413, 388, 353, 399, 430, 373, 402, 370, 349, 412, 346, 397, 392, 406, 395, 417, 408, 404, 383, 354, 396, 409, 382, 365, 351, 389, 336, 342, 422, 420, 414, 398, 362, 426, 371, 345, 385, 415, 384, 335, 405, 366, 410, 375, 411, 339, 372, 348, 418, 378, 387, 425, 367, 376, 356, 472, 465, 466, 478, 476, 444, 484, 468, 495, 469, 452, 492, 481, 436, 441, 434, 480, 462, 463, 470, 432, 499, 435, 471, 431, 491, 457, 456, 455, 475, 464, 496, 494, 493, 433, 490, 485, 482, 449, 459, 439, 498, 473, 438, 442, 451, 479, 461, 474, 437, 489, 467, 440, 458, 488, 477, 460, 497, 448, 450, 453, 483, 446, 454, 486] La sua cardinalità è = 496 L'algoritmo Greedy Min Vertex Cover ha impiegato =  54.3053991795\n",
      "Il min Vertex Cover è = [181, 41, 89, 163, 8, 93, 112, 169, 160, 119, 131, 65, 110, 38, 142, 173, 21, 177, 158, 132, 156, 29, 101, 48, 23, 28, 144, 126, 60, 97, 172, 67, 69, 52, 17, 191, 134, 159, 16, 88, 36, 39, 70, 185, 24, 50, 171, 96, 117, 76, 129, 53, 66, 183, 161, 61, 137, 81, 140, 124, 103, 108, 135, 179, 57, 63, 138, 149, 59, 6, 186, 139, 98, 58, 121, 26, 165, 32, 113, 174, 19, 155, 43, 74, 105, 116, 162, 75, 56, 13, 182, 109, 153, 102, 180, 127, 64, 31, 86, 68, 71, 192, 72, 94, 55, 46, 25, 166, 190, 164, 85, 47, 10, 141, 143, 111, 90, 136, 125, 120, 148, 11, 187, 118, 150, 33, 62, 12, 42, 157, 80, 4, 78, 14, 193, 128, 35, 0, 45, 188, 27, 7, 18, 44, 106, 170, 54, 123, 122, 152, 79, 34, 87, 91, 3, 168, 189, 176, 151, 77, 1, 73, 133, 83, 51, 20, 147, 104, 84, 146, 49, 154, 82, 9, 100, 2, 145, 114, 30, 22, 15, 167, 99, 115, 184, 95, 178, 37, 40, 175, 130, 107, 92, 5, 341, 194, 593, 347, 407, 346, 886, 890, 798, 519, 389, 262, 945, 929, 729, 305, 996, 814, 538, 572, 941, 609, 632, 975, 954, 382, 970, 854, 765, 596, 534, 963, 487, 913, 683, 902, 730, 732, 669, 648, 583, 350, 915, 438, 575, 978, 862, 794, 944, 491, 739, 546, 275, 812, 220, 223, 787, 440, 801, 342, 214, 571, 665, 855, 835, 684, 335, 810, 861, 532, 956, 797, 740, 949, 709, 750, 630, 916, 719, 642, 212, 668, 210, 968, 830, 826, 637, 554, 196, 715, 874, 687, 626, 604, 652, 937, 899, 651, 461, 411, 441, 278, 988, 452, 762, 678, 408, 803, 466, 362, 957, 868, 638, 588, 869, 789, 497, 294, 616, 308, 375, 449, 367, 359, 327, 887, 560, 679, 561, 904, 427, 808, 734, 394, 343, 677, 301, 859, 657, 653, 522, 923, 525, 930, 858, 969, 644, 610, 606, 530, 509, 699, 208, 376, 726, 483, 474, 351, 403, 662, 302, 828, 991, 948, 217, 967, 827, 672, 564, 234, 764, 674, 398, 745, 261, 468, 463, 338, 282, 242, 880, 688, 856, 410, 285, 281, 892, 673, 357, 924, 777, 633, 385, 759, 619, 573, 724, 256, 680, 959, 485, 380, 581, 518, 495, 908, 552, 585, 377, 875, 269, 793, 426, 381, 817, 432, 384, 203, 562, 512, 982, 369, 245, 499, 209, 623, 804, 527, 442, 891, 706, 603, 676, 548, 980, 506, 363, 559, 540, 505, 853, 795, 934, 639, 464, 831, 746, 698, 690, 300, 227, 881, 613, 482, 454, 417, 409, 379, 198, 489, 691, 431, 215, 456, 850, 664, 570, 260, 446, 330, 420, 419, 800, 704, 477, 587, 517, 757, 345, 567, 352, 984, 897, 577, 204, 268, 943, 718, 247, 627, 444, 246, 884, 703, 289, 882, 846, 309, 935, 737, 239, 708, 832, 951, 889, 990, 815, 877, 628, 592, 467, 284, 919, 319, 576, 553, 253, 206, 997, 983, 843, 792, 864, 819, 391, 955, 938, 818, 733, 663, 590, 271, 228, 971, 621, 829, 780, 940, 415, 364, 700, 475, 322, 615, 238, 397, 985, 520, 758, 717, 236, 885, 694, 216, 649, 643, 333, 763, 371, 479, 310, 354, 635, 513, 549, 221, 939, 318, 932, 753, 711, 602, 365, 660, 348, 973, 942, 905, 766, 760, 500, 550, 232, 707, 388, 788, 755, 360, 952, 597, 498, 393, 953, 270, 867, 964, 529, 654, 317, 701, 922, 279, 895, 816, 893, 429, 661, 565, 320, 563, 543, 822, 600, 558, 488, 727, 640, 802, 634, 735, 712, 720, 413, 321, 324, 840, 906, 636, 894, 421, 647, 574, 295, 292, 811, 786, 412, 778, 387, 465, 667, 666, 713, 339, 986, 395, 230, 888, 258, 255, 224, 809, 692, 448, 231, 806, 658, 539, 325, 493, 401, 250, 966, 790, 618, 537, 557, 211, 386, 328, 807, 486, 516, 736, 783, 650, 443, 878, 866, 848, 399, 629, 781, 416, 697, 511, 607, 470, 842, 355, 936, 515, 926, 754, 601, 872, 547, 437, 240, 274, 195, 207, 569, 422, 896, 785, 445, 298, 202, 909, 972, 373, 349, 776, 772, 769, 965, 961, 473, 813, 462, 947, 213, 494, 404, 340, 205, 782, 291, 879, 544, 933, 912, 366, 344, 752, 695, 447, 844, 998, 290, 277, 989, 358, 871, 987, 799, 620, 451, 911, 705, 927, 918, 414, 710, 551, 502, 400, 876, 541, 535, 845, 276, 311, 992, 747, 457, 510, 775, 751, 741, 851, 742, 685, 508, 501, 353, 716, 396, 368, 313, 641, 524, 265, 476, 995, 226, 566, 197, 531, 774, 748, 471, 455, 920, 805, 914, 425, 406, 714, 580, 332, 598, 423, 682, 860, 288, 492, 257, 201, 950, 235, 659, 993, 928, 823, 870, 252, 791, 521, 903, 833, 496, 259, 646, 361, 434, 307, 266, 981, 836, 459, 273, 222, 825, 254, 770, 484, 907, 536, 671, 605, 768, 472, 925, 579, 608, 478, 723, 526, 251, 243, 738, 533, 304, 263, 453, 611, 460, 568, 999, 847, 728, 283, 199, 838, 326, 722, 405, 296, 439, 316, 821, 994, 979, 744, 314, 773, 931, 721, 280, 779, 469, 624, 617, 917, 901, 725, 974, 756, 435, 402, 244, 430, 323, 731, 900, 841, 796, 287, 625, 545, 334, 631, 528, 883, 306, 200, 390, 655, 749, 383, 378, 910, 743, 523, 960, 839, 589, 863, 591, 612, 303, 681, 504, 771, 614, 696, 428, 962, 670, 272, 229, 622, 542, 424, 218, 297, 834, 264, 594, 503, 873, 329, 315, 898, 865, 656, 374, 337, 599, 514, 249, 824, 586, 555, 490, 372, 946, 556, 977, 433, 958, 702, 921, 767, 686, 595, 857, 784, 248, 761, 578, 481, 356, 820, 645, 458, 237, 976, 689, 849, 507, 436, 219, 837, 450, 693, 675, 241, 852, 312, 584, 582, 392, 299, 286] La sua cardinalità è = 991 L'algoritmo Greedy Min Vertex Cover ha impiegato =  134.326865911\n",
      "Il min Vertex Cover è = [0, 1, 2, 8, 3, 6, 4, 7, 5, 10, 9, 15, 11, 14, 12, 18, 13, 16, 17, 19, 20, 23, 21, 24, 22, 25, 26, 30, 27, 28, 29, 31, 32, 33, 34, 35, 36, 38, 37, 40, 39, 41, 42, 43, 44, 45, 46, 49, 47, 48]  La sua cardinalità è = 50 L'algoritmo Matching Min Vertex Cover ha impiegato =  0.0805299282074\n",
      "Il min Vertex Cover è = [0, 3, 1, 2, 4, 6, 5, 8, 7, 9, 10, 12, 11, 14, 13, 16, 15, 17, 18, 21, 19, 20, 22, 24, 23, 28, 25, 26, 27, 30, 29, 31, 32, 34, 33, 35, 36, 41, 37, 38, 39, 40, 42, 44, 43, 51, 45, 47, 46, 49, 48, 53, 50, 54, 52, 55, 56, 60, 57, 58, 59, 63, 61, 62, 64, 67, 65, 66, 68, 69, 70, 71, 72, 78, 73, 74, 75, 76, 77, 79, 80, 81, 82, 84, 83, 88, 85, 86, 87, 90, 89, 91, 92, 97, 93, 96, 94, 95, 98, 99]  La sua cardinalità è = 100 L'algoritmo Matching Min Vertex Cover ha impiegato =  0.485810995102\n",
      "Il min Vertex Cover è = [0, 1, 2, 3, 4, 6, 5, 7, 8, 11, 9, 13, 10, 14, 12, 15, 16, 21, 17, 20, 18, 19, 22, 25, 23, 26, 24, 28, 27, 30, 29, 32, 31, 33, 34, 36, 35, 40, 37, 39, 38, 41, 42, 43, 44, 45, 46, 49, 47, 48, 50, 51, 52, 53, 54, 55, 56, 57, 58, 59, 60, 61, 62, 64, 63, 67, 65, 68, 66, 71, 69, 70, 72, 73, 74, 78, 75, 76, 77, 80, 79, 81, 82, 85, 83, 84, 86, 93, 87, 89, 88, 90, 91, 94, 92, 95, 96, 98, 97, 99, 100, 101, 102, 103, 104, 109, 105, 107, 106, 108, 110, 111, 112, 114, 113, 115, 116, 120, 117, 118, 119, 121, 122, 123, 124, 126, 125, 128, 127, 129, 130, 132, 131, 133, 134, 135, 136, 138, 137, 141, 139, 143, 140, 144, 142, 145, 146, 147, 148, 150, 149, 153, 151, 152, 154, 159, 155, 157, 156, 158, 160, 162, 161, 163, 164, 165, 166, 169, 167, 168, 170, 173, 171, 172, 174, 175, 176, 181, 177, 180, 178, 183, 179, 182, 184, 187, 185, 186, 188, 193, 189, 192, 190, 191, 194, 195, 196, 199, 197, 200, 198, 201, 202, 204, 203, 205, 206, 210, 207, 209, 208, 211, 212, 215, 213, 214, 216, 218, 217, 219, 220, 222, 221, 224, 223, 225, 226, 227, 228, 232, 229, 230, 231, 233, 234, 236, 235, 238, 237, 240, 239, 242, 241, 244, 243, 253, 245, 246, 247, 248, 249, 252, 250, 251, 254, 256, 255, 260, 257, 258, 259, 261, 262, 263, 264, 265, 266, 267, 268, 269, 270, 273, 271, 278, 272, 276, 274, 275, 277, 282, 279, 281, 280, 285, 283, 284, 286, 287, 288, 289, 290, 291, 292, 295, 293, 294, 296, 297, 298, 301, 299, 300, 302, 303, 304, 306, 305, 309, 307, 313, 308, 310, 311, 312, 314, 316, 315, 325, 317, 318, 319, 320, 321, 327, 322, 326, 323, 324, 328, 330, 329, 331, 332, 333, 334, 335, 336, 337, 338, 339, 340, 343, 341, 344, 342, 347, 345, 348, 346, 350, 349, 351, 352, 354, 353, 355, 356, 357, 358, 359, 360, 362, 361, 363, 364, 365, 366, 368, 367, 369, 370, 371, 372, 373, 374, 375, 376, 377, 378, 379, 380, 382, 381, 385, 383, 386, 384, 387, 388, 390, 389, 391, 392, 393, 394, 395, 396, 397, 398, 399, 400, 402, 401, 403, 404, 405, 406, 409, 407, 410, 408, 414, 411, 412, 413, 415, 416, 419, 417, 418, 420, 423, 421, 422, 424, 426, 425, 427, 428, 429, 430, 433, 431, 432, 434, 435, 436, 439, 437, 441, 438, 440, 442, 446, 443, 444, 445, 449, 447, 450, 448, 451, 452, 454, 453, 458, 455, 456, 457, 463, 459, 461, 460, 462, 464, 466, 465, 468, 467, 471, 469, 474, 470, 476, 472, 473, 475, 477, 478, 480, 479, 482, 481, 484, 483, 486, 485, 487, 488, 491, 489, 490, 492, 494, 493, 495, 496, 497, 498, 499]  La sua cardinalità è = 500 L'algoritmo Matching Min Vertex Cover ha impiegato =  53.9215009212\n",
      "Il min Vertex Cover è = [0, 1, 2, 5, 3, 4, 6, 7, 8, 9, 10, 11, 12, 14, 13, 16, 15, 18, 17, 24, 19, 23, 20, 21, 22, 25, 26, 31, 27, 29, 28, 30, 32, 33, 34, 37, 35, 36, 38, 39, 40, 43, 41, 44, 42, 47, 45, 46, 48, 49, 50, 51, 52, 53, 54, 56, 55, 58, 57, 61, 59, 60, 62, 65, 63, 66, 64, 67, 68, 71, 69, 72, 70, 73, 74, 77, 75, 78, 76, 81, 79, 80, 82, 85, 83, 86, 84, 87, 88, 89, 90, 91, 92, 93, 94, 97, 95, 99, 96, 100, 98, 101, 102, 103, 104, 106, 105, 107, 108, 110, 109, 112, 111, 113, 114, 116, 115, 118, 117, 119, 120, 121, 122, 124, 123, 129, 125, 127, 126, 128, 130, 134, 131, 136, 132, 137, 133, 138, 135, 139, 140, 142, 141, 144, 143, 146, 145, 147, 148, 150, 149, 151, 152, 153, 154, 158, 155, 156, 157, 159, 160, 163, 161, 162, 164, 166, 165, 168, 167, 172, 169, 170, 171, 174, 173, 176, 175, 177, 178, 180, 179, 181, 182, 183, 184, 185, 186, 187, 188, 189, 190, 196, 191, 193, 192, 197, 194, 195, 198, 200, 199, 201, 202, 204, 203, 205, 206, 207, 208, 209, 210, 211, 212, 214, 213, 217, 215, 216, 218, 219, 220, 225, 221, 222, 223, 224, 226, 228, 227, 232, 229, 230, 231, 234, 233, 235, 236, 237, 238, 245, 239, 241, 240, 243, 242, 244, 246, 248, 247, 252, 249, 251, 250, 253, 254, 258, 255, 257, 256, 259, 260, 261, 262, 263, 264, 266, 265, 269, 267, 268, 270, 271, 272, 273, 274, 275, 276, 277, 278, 279, 280, 281, 282, 283, 284, 289, 285, 286, 287, 288, 290, 296, 291, 298, 292, 293, 294, 295, 297, 301, 299, 300, 302, 306, 303, 304, 305, 309, 307, 310, 308, 312, 311, 317, 313, 315, 314, 316, 318, 322, 319, 326, 320, 321, 323, 327, 324, 325, 328, 329, 330, 333, 331, 334, 332, 336, 335, 338, 337, 341, 339, 342, 340, 343, 344, 346, 345, 347, 348, 349, 350, 351, 352, 353, 354, 355, 356, 358, 357, 359, 360, 362, 361, 363, 364, 365, 366, 367, 368, 370, 369, 372, 371, 378, 373, 374, 375, 380, 376, 379, 377, 382, 381, 383, 384, 387, 385, 386, 388, 390, 389, 395, 391, 396, 392, 394, 393, 397, 398, 399, 400, 403, 401, 402, 404, 405, 406, 407, 408, 409, 410, 412, 411, 413, 414, 415, 416, 422, 417, 418, 419, 423, 420, 426, 421, 427, 424, 428, 425, 429, 430, 432, 431, 433, 434, 437, 435, 438, 436, 439, 440, 443, 441, 442, 444, 446, 445, 447, 448, 452, 449, 451, 450, 453, 454, 457, 455, 458, 456, 462, 459, 461, 460, 463, 464, 466, 465, 470, 467, 471, 468, 472, 469, 475, 473, 476, 474, 477, 478, 481, 479, 488, 480, 482, 483, 485, 484, 486, 487, 497, 489, 490, 491, 492, 493, 500, 494, 495, 496, 499, 498, 501, 502, 503, 504, 505, 506, 507, 508, 509, 510, 511, 512, 515, 513, 514, 516, 517, 518, 522, 519, 520, 521, 523, 524, 525, 526, 528, 527, 529, 530, 532, 531, 533, 534, 536, 535, 539, 537, 540, 538, 541, 542, 543, 544, 545, 546, 548, 547, 550, 549, 553, 551, 554, 552, 557, 555, 559, 556, 558, 560, 563, 561, 562, 564, 567, 565, 568, 566, 569, 570, 574, 571, 572, 573, 575, 576, 578, 577, 579, 580, 581, 582, 583, 584, 585, 586, 588, 587, 589, 590, 591, 592, 593, 594, 596, 595, 597, 598, 600, 599, 603, 601, 604, 602, 605, 606, 608, 607, 609, 610, 611, 612, 615, 613, 616, 614, 617, 618, 619, 620, 621, 622, 623, 624, 626, 625, 627, 628, 632, 629, 630, 631, 633, 634, 637, 635, 638, 636, 639, 640, 641, 642, 643, 644, 649, 645, 647, 646, 648, 650, 651, 652, 653, 654, 655, 656, 657, 658, 661, 659, 662, 660, 663, 664, 666, 665, 667, 668, 670, 669, 671, 672, 674, 673, 676, 675, 677, 678, 680, 679, 681, 682, 683, 684, 686, 685, 687, 688, 694, 689, 692, 690, 691, 693, 695, 696, 697, 698, 699, 700, 701, 702, 703, 704, 706, 705, 710, 707, 712, 708, 713, 709, 711, 714, 719, 715, 716, 717, 721, 718, 729, 720, 722, 723, 724, 725, 727, 726, 728, 730, 731, 732, 735, 733, 734, 736, 739, 737, 741, 738, 743, 740, 751, 742, 744, 745, 746, 747, 753, 748, 749, 750, 752, 754, 756, 755, 757, 758, 761, 759, 763, 760, 762, 764, 765, 766, 768, 767, 769, 770, 771, 772, 777, 773, 774, 775, 780, 776, 781, 778, 789, 779, 782, 783, 784, 785, 786, 787, 791, 788, 792, 790, 798, 793, 794, 795, 799, 796, 797, 800, 801, 802, 809, 803, 807, 804, 805, 806, 808, 810, 812, 811, 813, 814, 816, 815, 819, 817, 818, 820, 821, 822, 823, 824, 825, 826, 827, 828, 830, 829, 832, 831, 835, 833, 837, 834, 836, 838, 839, 840, 841, 842, 852, 843, 844, 845, 850, 846, 847, 848, 849, 851, 853, 854, 855, 856, 857, 858, 859, 860, 861, 862, 864, 863, 869, 865, 873, 866, 870, 867, 871, 868, 874, 872, 876, 875, 877, 878, 881, 879, 880, 882, 883, 884, 886, 885, 888, 887, 890, 889, 891, 892, 893, 894, 896, 895, 898, 897, 899, 900, 902, 901, 903, 904, 907, 905, 906, 908, 909, 910, 912, 911, 915, 913, 914, 916, 917, 918, 920, 919, 921, 922, 923, 924, 927, 925, 926, 928, 929, 930, 931, 932, 933, 934, 936, 935, 939, 937, 938, 940, 948, 941, 942, 943, 945, 944, 947, 946, 950, 949, 951, 952, 957, 953, 956, 954, 958, 955, 960, 959, 961, 962, 964, 963, 966, 965, 967, 968, 970, 969, 971, 972, 976, 973, 974, 975, 977, 978, 981, 979, 980, 982, 983, 984, 985, 986, 988, 987, 991, 989, 992, 990, 993, 994, 995, 996, 998]  La sua cardinalità è = 998 L'algoritmo Matching Min Vertex Cover ha impiegato =  125.709211826\n"
     ]
    }
   ],
   "source": [
    "#Simulazione Greedy per i diversi valori di n\n",
    "path ='RandomGraphs/un/'\n",
    "lista_greedy_un =[]\n",
    "fil = ['input_50.txt','input_100.txt','input_500.txt','input_1000.txt']\n",
    "for i in fil:\n",
    "    dest = path+i\n",
    "    #print dest\n",
    "    out_dest = 'Outputs/Greedy/un/'\n",
    "    sol_gmvc,dur_g = GreedyMinVertexCover(dest)\n",
    "    lista_greedy_un.append([i,dur_g,sol_gmvc])\n",
    "    write_on_file_results(sol_gmvc,Greedy = True,path=out_dest,d=i)\n",
    "#Simulazione Matching per i diversi valori di n\n",
    "lista_match_un =[]\n",
    "path ='RandomGraphs/un/'\n",
    "for i in fil:\n",
    "    dest = path+i\n",
    "    #print dest\n",
    "    out_dest = 'Outputs/Matching/un/'\n",
    "    sol_mat,dur_g = Matching(dest)\n",
    "    lista_match_un.append([i,dur_g,sol_mat])\n",
    "    write_on_file_results(sol_mat,Matching = True,path=out_dest,d=i)"
   ]
  },
  {
   "cell_type": "code",
   "execution_count": 99,
   "metadata": {
    "collapsed": false
   },
   "outputs": [
    {
     "name": "stdout",
     "output_type": "stream",
     "text": [
      "+n----------Greedy------------Matching-------------+\n",
      "50 ---------- 0.0522010326385 ------------ 0.0805299282074 -------------|\n",
      "100 ---------- 0.479500055313 ------------ 0.485810995102 -------------|\n",
      "500 ---------- 54.3053991795 ------------ 53.9215009212 -------------|\n",
      "1000 ---------- 134.326865911 ------------ 125.709211826 -------------|\n",
      "+---------------------------------------------------+\n"
     ]
    }
   ],
   "source": [
    "print_solutions(lista_greedy_un,lista_match_un)"
   ]
  },
  {
   "cell_type": "markdown",
   "metadata": {},
   "source": []
  },
  {
   "cell_type": "code",
   "execution_count": null,
   "metadata": {
    "collapsed": false
   },
   "outputs": [],
   "source": []
  },
  {
   "cell_type": "code",
   "execution_count": null,
   "metadata": {
    "collapsed": false
   },
   "outputs": [],
   "source": []
  },
  {
   "cell_type": "code",
   "execution_count": null,
   "metadata": {
    "collapsed": false
   },
   "outputs": [],
   "source": []
  },
  {
   "cell_type": "markdown",
   "metadata": {
    "collapsed": false
   },
   "source": [
    "## Esecuzione su grafi con n = 50, 100, 200, 500, 1000 con $p = \\frac{1}{\\sqrt{n}}$"
   ]
  },
  {
   "cell_type": "code",
   "execution_count": null,
   "metadata": {
    "collapsed": true
   },
   "outputs": [],
   "source": []
  },
  {
   "cell_type": "code",
   "execution_count": 100,
   "metadata": {
    "collapsed": false
   },
   "outputs": [
    {
     "name": "stdout",
     "output_type": "stream",
     "text": [
      "Il min Vertex Cover è = [26, 10, 31, 16, 5, 11, 45, 42, 0, 7, 13, 38, 18, 6, 17, 48, 25, 15, 32, 9, 4, 47, 46, 29, 23, 21, 43, 35, 36, 28, 8, 34, 19, 22, 20, 14, 44, 30, 24] La sua cardinalità è = 39 L'algoritmo Greedy Min Vertex Cover ha impiegato =  0.0155920982361\n",
      "Il min Vertex Cover è = [92, 70, 42, 87, 52, 88, 81, 35, 46, 94, 93, 84, 33, 31, 74, 82, 11, 63, 41, 30, 49, 48, 1, 73, 62, 24, 4, 83, 8, 91, 5, 0, 77, 97, 71, 36, 80, 78, 55, 25, 6, 23, 18, 14, 44, 34, 21, 12, 85, 66, 19, 7, 65, 61, 56, 45, 13, 90, 67, 32, 59, 29, 28, 9, 98, 68, 58, 57, 50, 10, 3, 53, 15, 2, 89, 69, 43, 17, 79, 76, 64, 60, 27] La sua cardinalità è = 83 L'algoritmo Greedy Min Vertex Cover ha impiegato =  0.0436961650848\n",
      "Il min Vertex Cover è = [489, 462, 55, 341, 265, 200, 125, 464, 198, 114, 314, 261, 204, 79, 368, 66, 465, 449, 307, 260, 226, 48, 435, 425, 274, 165, 61, 334, 224, 431, 418, 318, 86, 493, 291, 193, 135, 103, 37, 451, 448, 399, 347, 322, 159, 476, 319, 303, 129, 100, 0, 458, 402, 230, 182, 484, 386, 270, 267, 150, 133, 487, 397, 231, 141, 290, 243, 180, 153, 64, 21, 468, 421, 268, 234, 73, 10, 463, 460, 356, 325, 187, 104, 96, 60, 478, 277, 210, 203, 120, 111, 74, 35, 469, 422, 315, 285, 206, 119, 52, 453, 423, 372, 455, 447, 392, 370, 317, 288, 221, 197, 191, 115, 454, 404, 357, 310, 146, 54, 38, 28, 419, 364, 350, 181, 113, 110, 477, 445, 360, 332, 294, 237, 36, 9, 7, 496, 475, 279, 186, 179, 101, 78, 456, 437, 436, 355, 348, 250, 155, 71, 50, 373, 304, 194, 44, 405, 394, 387, 382, 376, 352, 258, 229, 144, 90, 70, 22, 366, 233, 213, 162, 156, 147, 30, 472, 408, 262, 211, 190, 76, 49, 1, 412, 389, 342, 336, 188, 145, 43, 499, 498, 331, 240, 177, 174, 3, 446, 396, 391, 346, 292, 208, 94, 67, 42, 41, 8, 6, 432, 426, 383, 328, 275, 158, 33, 409, 333, 176, 163, 105, 12, 473, 407, 327, 242, 154, 81, 47, 25, 379, 375, 374, 320, 215, 131, 107, 89, 482, 378, 361, 278, 269, 241, 220, 209, 173, 480, 450, 416, 395, 384, 259, 157, 2, 483, 457, 443, 414, 393, 362, 358, 149, 68, 11, 490, 441, 434, 417, 390, 287, 252, 166, 108, 459, 410, 388, 371, 337, 245, 202, 183, 148, 142, 116, 59, 51, 433, 363, 286, 137, 136, 123, 17, 15, 430, 351, 300, 289, 152, 134, 444, 424, 413, 369, 353, 324, 308, 225, 168, 13, 4, 354, 338, 311, 297, 295, 272, 257, 199, 160, 77, 57, 27, 429, 428, 400, 385, 377, 329, 222, 139, 130, 488, 321, 282, 264, 82, 45, 26, 14, 381, 349, 344, 301, 205, 117, 23, 491, 485, 438, 316, 302, 256, 253, 248, 138, 124, 411, 380, 312, 306, 305, 298, 296, 276, 235, 178, 151, 46, 481, 439, 339, 266, 249, 228, 216, 164, 161, 85, 494, 365, 345, 299, 293, 247, 218, 167, 122, 112, 18, 486, 466, 452, 420, 415, 271, 223, 217, 189, 140, 126, 99, 84, 442, 343, 273, 263, 239, 106, 102, 98, 72, 58, 495, 467, 340, 313, 280, 238, 219, 184, 170, 109, 97, 95, 93, 83, 80, 56, 39, 403, 398, 367, 335, 254, 232, 92, 75, 479, 330, 323, 309, 283, 246, 227, 214, 172, 169, 143, 121, 62] La sua cardinalità è = 452 L'algoritmo Greedy Min Vertex Cover ha impiegato =  2.75884008408\n",
      "Il min Vertex Cover è = [510, 864, 966, 470, 98, 773, 265, 214, 555, 490, 200, 188, 827, 609, 529, 476, 306, 179, 973, 919, 387, 176, 34, 0, 884, 596, 495, 872, 585, 518, 468, 460, 248, 203, 49, 898, 652, 85, 931, 708, 584, 578, 561, 488, 297, 251, 84, 899, 691, 548, 527, 526, 492, 229, 836, 822, 788, 665, 441, 408, 143, 815, 670, 547, 511, 80, 829, 724, 370, 368, 354, 327, 95, 5, 984, 972, 705, 627, 618, 461, 383, 82, 936, 932, 888, 679, 663, 344, 217, 115, 944, 808, 595, 532, 238, 112, 38, 31, 970, 956, 651, 646, 443, 442, 336, 153, 930, 720, 711, 635, 612, 425, 209, 60, 18, 998, 924, 923, 881, 877, 750, 535, 426, 303, 223, 892, 889, 792, 766, 599, 480, 448, 416, 361, 234, 137, 463, 342, 299, 159, 83, 2, 974, 910, 790, 770, 723, 411, 298, 895, 870, 667, 641, 471, 414, 207, 122, 113, 108, 53, 36, 33, 950, 887, 855, 810, 740, 690, 677, 553, 439, 169, 823, 745, 730, 586, 466, 429, 423, 353, 340, 124, 54, 949, 874, 779, 668, 556, 339, 320, 937, 927, 821, 732, 568, 546, 322, 277, 247, 132, 997, 963, 928, 912, 782, 701, 407, 401, 398, 395, 198, 57, 960, 853, 844, 830, 795, 749, 570, 315, 259, 945, 882, 817, 781, 709, 634, 617, 593, 483, 266, 88, 28, 859, 838, 716, 700, 647, 619, 603, 583, 484, 321, 164, 806, 688, 682, 660, 528, 478, 371, 326, 269, 255, 231, 860, 839, 748, 542, 435, 374, 222, 221, 155, 149, 51, 941, 763, 747, 582, 446, 402, 264, 172, 136, 116, 977, 943, 765, 574, 358, 317, 301, 245, 215, 109, 871, 842, 655, 536, 501, 437, 397, 280, 268, 213, 140, 12, 4, 955, 916, 778, 666, 604, 601, 597, 533, 464, 278, 79, 981, 837, 833, 702, 474, 421, 392, 233, 212, 166, 144, 104, 103, 90, 77, 995, 908, 819, 746, 727, 377, 152, 68, 50, 875, 865, 703, 681, 639, 636, 502, 338, 270, 148, 975, 909, 903, 856, 738, 678, 534, 500, 250, 183, 110, 791, 693, 669, 664, 620, 350, 311, 19, 964, 820, 579, 577, 531, 373, 365, 357, 271, 192, 64, 47, 35, 933, 753, 725, 648, 640, 481, 457, 380, 242, 951, 922, 867, 861, 761, 742, 714, 697, 598, 505, 445, 419, 399, 328, 325, 131, 120, 24, 999, 978, 901, 850, 812, 764, 622, 567, 436, 412, 372, 263, 954, 934, 921, 777, 699, 656, 477, 434, 431, 386, 295, 178, 105, 948, 911, 849, 734, 715, 676, 659, 520, 472, 469, 438, 235, 129, 23, 824, 805, 756, 685, 661, 613, 591, 390, 30, 29, 25, 14, 834, 807, 762, 744, 728, 504, 486, 465, 364, 360, 287, 156, 71, 686, 672, 543, 381, 359, 290, 202, 73, 59, 52, 968, 843, 818, 799, 771, 751, 707, 621, 459, 452, 440, 294, 267, 227, 177, 87, 979, 883, 789, 769, 743, 704, 650, 614, 611, 498, 241, 138, 942, 800, 733, 643, 630, 564, 473, 449, 394, 379, 284, 273, 27, 962, 852, 840, 785, 692, 576, 432, 430, 417, 243, 174, 878, 726, 675, 657, 558, 540, 519, 333, 244, 236, 201, 111, 96, 993, 866, 863, 816, 698, 637, 626, 552, 537, 281, 262, 260, 46, 15, 988, 971, 896, 813, 775, 649, 623, 391, 388, 352, 335, 314, 983, 959, 845, 739, 717, 654, 608, 594, 413, 292, 282, 218, 184, 162, 139, 74, 62, 40, 39, 17, 902, 629, 538, 422, 396, 199, 173, 126, 101, 987, 851, 804, 783, 658, 588, 541, 261, 246, 208, 170, 161, 130, 128, 37, 929, 841, 752, 509, 433, 400, 356, 279, 230, 118, 58, 55, 907, 900, 894, 876, 809, 671, 581, 521, 296, 72, 48, 992, 713, 662, 625, 610, 566, 549, 513, 494, 475, 334, 293, 196, 133, 67, 967, 880, 801, 710, 696, 554, 550, 428, 375, 366, 329, 286, 254, 239, 224, 13, 1, 961, 926, 731, 722, 695, 569, 458, 415, 393, 385, 363, 348, 119, 89, 61, 41, 935, 925, 644, 616, 607, 418, 362, 304, 185, 991, 980, 953, 846, 832, 811, 803, 755, 754, 600, 592, 451, 447, 389, 272, 257, 186, 65, 7, 6, 985, 940, 915, 862, 848, 847, 828, 814, 405, 318, 285, 283, 249, 210, 154, 94, 66, 913, 906, 784, 767, 653, 384, 324, 291, 228, 194, 191, 16, 996, 969, 780, 760, 572, 571, 369, 275, 204, 197, 157, 102, 75, 890, 802, 768, 589, 573, 523, 499, 467, 330, 309, 100, 20, 11, 10, 947, 918, 904, 776, 757, 632, 580, 539, 496, 450, 444, 349, 237, 123, 63, 986, 965, 914, 885, 854, 798, 787, 772, 741, 737, 721, 683, 590, 563, 524, 403, 343, 258, 232, 45, 21, 957, 759, 687, 645, 633, 562, 559, 517, 453, 409, 378, 211, 175, 86, 78, 976, 952, 893, 873, 869, 565, 545, 491, 253, 252, 171, 989, 982, 958, 946, 891, 797, 642, 515, 493, 485, 479, 404, 382, 376, 347, 313, 307, 288, 274, 226, 189, 180, 56, 8, 920, 905, 719, 628, 602, 530, 503, 454, 406, 355, 319, 312, 193, 158, 147, 125, 121, 43, 9, 994, 868, 825, 793, 718, 631, 456, 427, 341, 332, 240, 225, 220, 145, 42, 939, 917, 879, 857, 794, 774, 736, 735, 624, 516, 514, 508, 323, 316, 305, 195, 135, 69, 938, 897, 796, 758, 729, 706, 689, 684, 674, 638, 615, 575, 455, 424, 410, 351, 331, 310, 276, 205, 190, 187, 114, 99] La sua cardinalità è = 930 L'algoritmo Greedy Min Vertex Cover ha impiegato =  14.9498388767\n",
      "Il min Vertex Cover è = [0, 18, 1, 17, 2, 5, 3, 28, 4, 12, 6, 10, 7, 9, 8, 22, 11, 13, 14, 16, 15, 24, 19, 21, 20, 29, 23, 25, 26, 27, 30, 32, 31, 38, 33, 36, 34, 37, 35, 42, 39, 45, 40, 46, 43, 49, 44, 47]  La sua cardinalità è = 48 L'algoritmo Matching Min Vertex Cover ha impiegato =  0.0091769695282\n",
      "Il min Vertex Cover è = [0, 15, 1, 13, 2, 12, 3, 8, 4, 36, 5, 20, 6, 27, 7, 17, 9, 22, 10, 65, 11, 26, 14, 30, 16, 24, 18, 31, 19, 46, 21, 33, 23, 42, 25, 35, 28, 47, 29, 41, 32, 40, 34, 70, 37, 44, 38, 68, 39, 48, 43, 62, 45, 74, 49, 58, 50, 52, 51, 82, 53, 55, 54, 78, 56, 72, 57, 59, 60, 63, 61, 86, 64, 71, 66, 79, 67, 77, 69, 73, 75, 87, 76, 93, 80, 96, 81, 97, 83, 89, 85, 88, 90, 94, 91, 95]  La sua cardinalità è = 96 L'algoritmo Matching Min Vertex Cover ha impiegato =  0.0482280254364\n",
      "Il min Vertex Cover è = [0, 5, 1, 12, 2, 3, 4, 7, 6, 39, 8, 24, 9, 10, 11, 55, 13, 16, 14, 30, 15, 45, 17, 33, 18, 25, 19, 49, 20, 52, 21, 28, 22, 29, 23, 41, 26, 51, 27, 83, 31, 50, 32, 105, 34, 36, 35, 42, 37, 85, 38, 56, 40, 74, 43, 63, 44, 66, 46, 59, 47, 75, 48, 98, 53, 60, 54, 139, 57, 61, 58, 162, 62, 96, 64, 111, 65, 84, 67, 77, 68, 70, 69, 95, 71, 81, 72, 115, 73, 134, 76, 106, 78, 149, 79, 90, 80, 124, 82, 92, 86, 87, 88, 158, 89, 132, 91, 107, 93, 136, 94, 119, 97, 173, 99, 153, 100, 102, 101, 108, 103, 120, 104, 131, 109, 181, 110, 130, 112, 171, 113, 125, 114, 179, 116, 140, 117, 146, 118, 151, 121, 161, 122, 127, 123, 145, 126, 128, 129, 194, 133, 214, 135, 152, 137, 164, 138, 141, 142, 157, 143, 224, 144, 180, 147, 170, 148, 163, 150, 174, 154, 172, 155, 218, 156, 189, 159, 192, 160, 165, 166, 186, 167, 188, 168, 226, 169, 234, 175, 187, 176, 193, 177, 225, 178, 182, 183, 231, 184, 204, 185, 199, 190, 209, 191, 210, 195, 248, 196, 221, 197, 201, 198, 238, 200, 203, 202, 316, 205, 208, 206, 256, 207, 211, 212, 219, 213, 216, 215, 254, 217, 245, 220, 242, 222, 230, 223, 232, 227, 228, 229, 236, 233, 270, 235, 273, 237, 285, 239, 253, 240, 257, 241, 250, 243, 275, 244, 297, 246, 258, 247, 269, 249, 288, 251, 259, 252, 296, 255, 277, 260, 262, 261, 264, 263, 293, 265, 287, 266, 355, 267, 289, 268, 276, 271, 286, 272, 315, 274, 308, 278, 282, 279, 284, 280, 369, 281, 349, 283, 324, 290, 356, 291, 312, 292, 305, 294, 311, 295, 318, 298, 354, 299, 339, 300, 301, 302, 309, 303, 328, 304, 330, 306, 362, 307, 338, 310, 321, 313, 320, 314, 336, 317, 409, 319, 326, 322, 325, 323, 391, 327, 340, 329, 344, 331, 341, 332, 367, 333, 335, 334, 357, 337, 352, 342, 378, 343, 347, 345, 359, 346, 395, 348, 372, 350, 385, 351, 366, 353, 364, 358, 408, 360, 425, 361, 396, 363, 381, 365, 456, 368, 384, 370, 400, 371, 418, 373, 407, 374, 388, 375, 394, 376, 402, 377, 434, 379, 412, 380, 476, 382, 392, 383, 406, 386, 404, 387, 397, 389, 399, 390, 439, 393, 437, 398, 423, 401, 405, 403, 419, 410, 420, 411, 441, 413, 435, 414, 496, 415, 421, 416, 485, 417, 447, 422, 431, 424, 428, 426, 489, 427, 446, 429, 430, 432, 433, 436, 440, 438, 492, 442, 454, 443, 486, 444, 460, 445, 448, 449, 450, 451, 477, 452, 457, 453, 466, 455, 464, 458, 459, 461, 482, 462, 478, 463, 465, 467, 484, 468, 493, 469, 474, 470, 479, 471, 490, 472, 480, 473, 495, 481, 483, 491, 497]  La sua cardinalità è = 494 L'algoritmo Matching Min Vertex Cover ha impiegato =  2.86245799065\n",
      "Il min Vertex Cover è = [0, 26, 1, 78, 2, 14, 3, 4, 5, 6, 7, 27, 8, 37, 9, 117, 10, 19, 11, 16, 12, 43, 13, 25, 15, 35, 17, 53, 18, 72, 20, 106, 21, 54, 22, 30, 23, 55, 24, 52, 28, 47, 29, 102, 31, 86, 32, 34, 33, 58, 36, 68, 38, 39, 40, 50, 41, 96, 42, 46, 44, 65, 45, 216, 48, 51, 49, 113, 56, 79, 57, 115, 59, 85, 60, 73, 61, 64, 62, 76, 63, 119, 66, 98, 67, 129, 69, 108, 70, 112, 71, 105, 74, 104, 75, 91, 77, 99, 80, 89, 81, 118, 82, 149, 83, 163, 84, 169, 87, 139, 88, 110, 90, 132, 92, 109, 93, 162, 94, 116, 95, 134, 97, 138, 100, 146, 101, 211, 103, 122, 107, 156, 111, 124, 114, 177, 120, 218, 121, 127, 123, 154, 125, 144, 126, 193, 128, 168, 130, 160, 131, 171, 133, 161, 135, 221, 136, 176, 137, 187, 140, 153, 141, 174, 142, 179, 143, 208, 145, 251, 147, 164, 148, 185, 150, 245, 151, 203, 152, 196, 155, 199, 157, 172, 158, 202, 159, 219, 165, 173, 166, 253, 167, 170, 175, 209, 178, 225, 180, 183, 181, 226, 182, 189, 184, 267, 186, 306, 188, 250, 190, 204, 191, 200, 192, 198, 194, 205, 195, 252, 197, 320, 201, 246, 206, 281, 207, 313, 210, 231, 212, 328, 213, 254, 214, 242, 215, 224, 217, 262, 220, 248, 222, 235, 223, 261, 227, 384, 228, 241, 229, 232, 230, 268, 233, 257, 234, 285, 236, 290, 237, 321, 238, 249, 239, 240, 243, 295, 244, 284, 247, 256, 255, 317, 258, 298, 259, 288, 260, 372, 263, 269, 264, 280, 265, 274, 266, 309, 270, 293, 271, 276, 272, 287, 273, 334, 275, 307, 277, 311, 278, 279, 282, 305, 283, 365, 286, 339, 289, 370, 291, 303, 292, 355, 294, 318, 296, 352, 297, 325, 299, 327, 300, 301, 302, 364, 304, 368, 308, 395, 310, 358, 312, 340, 314, 360, 315, 326, 316, 322, 319, 335, 323, 344, 324, 377, 329, 396, 330, 345, 331, 375, 332, 350, 333, 385, 336, 371, 337, 427, 338, 397, 341, 348, 342, 380, 343, 381, 346, 369, 347, 362, 349, 411, 351, 414, 353, 373, 354, 379, 356, 392, 357, 404, 359, 454, 361, 393, 363, 403, 366, 431, 367, 390, 374, 415, 376, 387, 378, 471, 382, 383, 386, 401, 388, 457, 389, 448, 391, 407, 394, 428, 398, 413, 399, 402, 400, 412, 405, 452, 406, 433, 408, 438, 409, 477, 410, 466, 416, 419, 417, 443, 418, 472, 420, 449, 421, 434, 422, 436, 423, 450, 424, 460, 425, 507, 426, 476, 429, 505, 430, 495, 432, 490, 435, 474, 437, 511, 439, 440, 441, 464, 442, 486, 444, 467, 445, 515, 446, 539, 447, 494, 451, 459, 453, 528, 455, 480, 456, 484, 458, 527, 461, 478, 462, 468, 463, 585, 465, 523, 469, 510, 470, 548, 473, 485, 475, 533, 479, 534, 481, 518, 482, 503, 483, 519, 487, 547, 488, 517, 489, 499, 491, 516, 492, 500, 493, 498, 496, 540, 497, 541, 501, 513, 502, 588, 504, 530, 506, 709, 508, 561, 509, 550, 512, 568, 514, 581, 520, 546, 521, 571, 522, 549, 524, 599, 525, 554, 526, 552, 529, 555, 531, 544, 532, 604, 535, 542, 536, 538, 537, 566, 543, 556, 545, 611, 551, 578, 553, 601, 557, 579, 558, 580, 559, 573, 560, 603, 562, 582, 563, 673, 564, 572, 565, 677, 567, 609, 569, 647, 570, 622, 574, 584, 575, 596, 576, 634, 577, 637, 583, 674, 586, 606, 587, 608, 589, 613, 590, 602, 591, 656, 592, 618, 593, 624, 594, 665, 595, 615, 597, 661, 598, 707, 600, 636, 605, 725, 607, 614, 610, 633, 612, 694, 616, 667, 617, 686, 619, 629, 620, 641, 621, 680, 623, 681, 625, 690, 626, 644, 627, 654, 628, 670, 630, 679, 631, 663, 632, 730, 635, 645, 638, 687, 639, 652, 640, 649, 642, 743, 643, 658, 646, 669, 648, 653, 650, 703, 651, 717, 655, 735, 657, 736, 659, 692, 660, 727, 662, 691, 664, 705, 666, 675, 668, 712, 671, 751, 672, 708, 676, 684, 678, 773, 682, 722, 683, 774, 685, 783, 688, 761, 689, 710, 693, 770, 695, 720, 696, 748, 697, 726, 698, 791, 699, 757, 700, 732, 701, 778, 702, 740, 704, 716, 706, 728, 711, 733, 713, 755, 714, 799, 715, 792, 718, 805, 719, 746, 721, 729, 723, 747, 724, 734, 731, 786, 737, 812, 738, 787, 739, 817, 741, 821, 742, 826, 744, 768, 745, 754, 749, 759, 750, 763, 752, 982, 753, 769, 756, 864, 758, 833, 760, 785, 762, 794, 764, 771, 765, 795, 766, 781, 767, 801, 772, 815, 775, 796, 776, 891, 777, 784, 779, 859, 780, 852, 782, 798, 788, 851, 789, 870, 790, 843, 793, 907, 797, 824, 800, 823, 802, 818, 803, 830, 804, 873, 806, 836, 807, 811, 808, 814, 809, 884, 810, 974, 813, 822, 816, 914, 819, 820, 825, 889, 827, 840, 828, 839, 829, 878, 831, 842, 832, 890, 834, 844, 835, 872, 837, 854, 838, 863, 841, 845, 846, 995, 847, 855, 848, 849, 850, 868, 853, 903, 856, 928, 857, 876, 858, 883, 860, 865, 861, 945, 862, 966, 866, 906, 867, 885, 869, 915, 871, 875, 874, 920, 877, 886, 879, 899, 880, 921, 881, 911, 882, 901, 887, 908, 888, 943, 892, 952, 893, 937, 894, 922, 895, 902, 896, 924, 897, 941, 898, 905, 900, 990, 904, 935, 909, 925, 910, 918, 912, 923, 913, 970, 916, 956, 917, 940, 919, 975, 926, 946, 927, 930, 929, 994, 931, 939, 932, 978, 933, 947, 934, 950, 936, 957, 938, 999, 942, 944, 948, 976, 949, 953, 951, 969, 954, 987, 955, 958, 960, 996, 961, 963, 962, 964, 965, 977, 968, 972, 973, 985, 980, 986]  La sua cardinalità è = 986 L'algoritmo Matching Min Vertex Cover ha impiegato =  17.0957140923\n"
     ]
    }
   ],
   "source": [
    "#Simulazione Greedy per i diversi valori di n\n",
    "path ='RandomGraphs/sqrt/'\n",
    "lista_greedy_sqrt =[]\n",
    "fil = ['input_50.txt','input_100.txt','input_500.txt','input_1000.txt']\n",
    "for i in fil:\n",
    "    dest = path+i\n",
    "    #print dest\n",
    "    out_dest = 'Outputs/Greedy/sqrt/'\n",
    "    sol_gmvc,dur_g = GreedyMinVertexCover(dest)\n",
    "    lista_greedy_sqrt.append([i,dur_g,sol_gmvc])\n",
    "    write_on_file_results(sol_gmvc,Greedy = True,path=out_dest,d=i)\n",
    "#Simulazione Matching per i diversi valori di n\n",
    "lista_match_sqrt =[]\n",
    "path ='RandomGraphs/sqrt/'\n",
    "for i in fil:\n",
    "    dest = path+i\n",
    "    #print dest\n",
    "    out_dest = 'Outputs/Matching/sqrt/'\n",
    "    sol_mat,dur_g = Matching(dest)\n",
    "    lista_match_sqrt.append([i,dur_g,sol_mat])\n",
    "    write_on_file_results(sol_mat,Matching = True,path=out_dest,d=i)"
   ]
  },
  {
   "cell_type": "code",
   "execution_count": 101,
   "metadata": {
    "collapsed": false
   },
   "outputs": [
    {
     "name": "stdout",
     "output_type": "stream",
     "text": [
      "+n----------Greedy------------Matching-------------+\n",
      "50 ---------- 0.0155920982361 ------------ 0.0091769695282 -------------|\n",
      "100 ---------- 0.0436961650848 ------------ 0.0482280254364 -------------|\n",
      "500 ---------- 2.75884008408 ------------ 2.86245799065 -------------|\n",
      "1000 ---------- 14.9498388767 ------------ 17.0957140923 -------------|\n",
      "+---------------------------------------------------+\n"
     ]
    }
   ],
   "source": [
    "print_solutions(lista_greedy_sqrt,lista_match_sqrt)"
   ]
  },
  {
   "cell_type": "markdown",
   "metadata": {
    "collapsed": true
   },
   "source": [
    "## Esecuzione su grafi con n = 50, 100, 200, 500, 1000 con $p = \\frac{log(n)}{n}$"
   ]
  },
  {
   "cell_type": "code",
   "execution_count": 102,
   "metadata": {
    "collapsed": false
   },
   "outputs": [
    {
     "name": "stdout",
     "output_type": "stream",
     "text": [
      "Il min Vertex Cover è = [38, 20, 32, 46, 23, 17, 21, 31, 30, 22, 13, 1, 8, 0, 19, 4, 48, 39, 24, 47, 34, 16, 9, 7, 6, 42, 18, 14, 12, 45, 11, 2, 49, 44, 36, 25] La sua cardinalità è = 36 L'algoritmo Greedy Min Vertex Cover ha impiegato =  0.00817203521729\n",
      "Il min Vertex Cover è = [25, 74, 68, 23, 89, 79, 11, 55, 22, 71, 26, 49, 28, 13, 80, 37, 1, 94, 90, 14, 3, 87, 73, 44, 16, 92, 78, 69, 7, 0, 61, 58, 46, 32, 31, 21, 99, 60, 59, 47, 41, 19, 95, 9, 96, 93, 85, 76, 70, 64, 63, 57, 54, 53, 24, 10, 88, 86, 51, 38, 35, 29, 20, 8, 83, 77, 67, 50, 15] La sua cardinalità è = 69 L'algoritmo Greedy Min Vertex Cover ha impiegato =  0.0312669277191\n",
      "Il min Vertex Cover è = [361, 174, 425, 217, 118, 491, 458, 226, 96, 6, 498, 358, 430, 323, 220, 213, 200, 113, 110, 480, 464, 387, 365, 332, 322, 317, 223, 204, 153, 137, 135, 131, 469, 368, 303, 229, 221, 189, 161, 460, 400, 341, 314, 252, 243, 228, 203, 168, 162, 149, 71, 69, 28, 499, 495, 486, 459, 448, 439, 435, 408, 373, 370, 330, 242, 225, 58, 37, 484, 481, 428, 404, 393, 307, 295, 227, 193, 172, 169, 128, 111, 68, 46, 489, 427, 426, 402, 384, 346, 319, 316, 312, 310, 300, 293, 259, 246, 206, 159, 154, 148, 144, 57, 455, 420, 417, 409, 407, 377, 344, 334, 304, 294, 288, 279, 274, 271, 264, 245, 212, 188, 183, 165, 158, 119, 81, 39, 493, 482, 451, 401, 399, 327, 278, 277, 272, 255, 254, 163, 156, 147, 139, 83, 82, 65, 26, 453, 434, 421, 371, 366, 359, 331, 329, 320, 311, 276, 239, 138, 124, 92, 80, 78, 52, 48, 36, 20, 19, 477, 285, 280, 263, 262, 257, 240, 218, 179, 164, 106, 67, 44, 3, 2, 479, 465, 444, 438, 397, 392, 308, 286, 281, 247, 241, 236, 209, 175, 150, 93, 88, 87, 72, 23, 0, 478, 472, 446, 433, 396, 375, 318, 296, 249, 216, 205, 194, 171, 155, 151, 145, 132, 126, 120, 112, 73, 60, 50, 43, 35, 33, 8, 496, 492, 452, 447, 442, 431, 424, 414, 376, 372, 364, 357, 309, 302, 287, 269, 260, 258, 253, 211, 210, 185, 133, 66, 49, 18, 490, 488, 475, 471, 467, 457, 445, 441, 416, 410, 403, 356, 345, 333, 315, 266, 232, 186, 177, 122, 75, 55, 29, 17, 7, 474, 473, 468, 466, 436, 418, 415, 405, 395, 390, 386, 382, 363, 353, 348, 343, 336, 268, 251, 237, 207, 178, 143, 136, 104, 94, 86, 85, 63, 61, 47, 22, 16, 487, 463, 454, 423, 413, 406, 389, 381, 379, 378, 367, 362, 342, 324, 313, 306, 273, 265, 238, 235, 219, 214, 201, 197, 181, 129, 108, 99, 89, 79, 77, 497, 494, 485, 470, 450, 449, 432, 429, 412, 383, 354, 351, 350, 347, 338, 321, 297, 284, 261, 250, 244, 233, 224, 215, 196, 182, 180, 157, 123, 105, 100, 74, 64, 45] La sua cardinalità è = 380 L'algoritmo Greedy Min Vertex Cover ha impiegato =  0.665121078491\n",
      "Il min Vertex Cover è = [934, 16, 661, 203, 859, 701, 50, 765, 196, 63, 813, 577, 512, 393, 337, 221, 167, 124, 97, 983, 923, 736, 484, 443, 341, 95, 967, 936, 757, 710, 658, 635, 578, 574, 538, 406, 346, 258, 185, 71, 927, 911, 900, 883, 864, 756, 655, 652, 648, 608, 522, 424, 376, 344, 287, 157, 136, 79, 69, 10, 998, 980, 973, 971, 881, 837, 834, 805, 702, 687, 662, 453, 442, 405, 313, 293, 276, 126, 3, 944, 906, 902, 882, 862, 811, 785, 745, 733, 664, 663, 628, 624, 602, 516, 260, 238, 224, 152, 103, 74, 23, 989, 976, 963, 954, 928, 914, 855, 849, 822, 816, 783, 767, 703, 640, 620, 606, 580, 575, 565, 537, 510, 458, 445, 370, 365, 363, 331, 317, 294, 201, 118, 115, 999, 997, 924, 888, 880, 877, 804, 637, 607, 598, 594, 544, 529, 524, 498, 467, 465, 461, 409, 361, 320, 262, 181, 159, 133, 108, 24, 985, 863, 827, 769, 739, 711, 708, 697, 645, 612, 605, 599, 597, 572, 485, 471, 419, 411, 389, 330, 305, 255, 229, 223, 173, 111, 91, 90, 25, 4, 990, 984, 950, 948, 909, 896, 885, 875, 832, 831, 725, 682, 680, 596, 587, 584, 576, 543, 536, 531, 494, 487, 480, 436, 277, 273, 266, 178, 175, 121, 102, 70, 68, 18, 8, 964, 860, 803, 742, 731, 688, 667, 630, 609, 595, 581, 567, 521, 515, 501, 491, 490, 477, 476, 417, 338, 318, 280, 272, 208, 199, 144, 139, 134, 120, 114, 113, 94, 943, 889, 857, 848, 830, 823, 801, 788, 764, 744, 724, 672, 651, 586, 559, 525, 523, 511, 509, 504, 472, 466, 456, 421, 404, 351, 349, 342, 295, 261, 194, 128, 85, 53, 35, 14, 13, 996, 981, 972, 969, 965, 960, 895, 892, 887, 821, 774, 770, 676, 618, 588, 527, 505, 481, 473, 454, 449, 425, 420, 377, 375, 340, 322, 298, 278, 264, 252, 248, 218, 160, 156, 44, 27, 20, 19, 5, 946, 919, 918, 844, 836, 810, 807, 787, 754, 673, 646, 633, 632, 573, 569, 568, 407, 403, 396, 380, 379, 373, 354, 336, 328, 281, 274, 259, 192, 177, 169, 137, 104, 96, 88, 87, 82, 41, 994, 991, 977, 915, 912, 908, 886, 852, 762, 714, 690, 674, 669, 659, 615, 585, 566, 560, 556, 519, 506, 500, 384, 329, 324, 282, 263, 257, 254, 241, 240, 217, 191, 189, 93, 56, 39, 15, 11, 974, 961, 947, 905, 829, 819, 800, 786, 782, 776, 772, 771, 748, 737, 712, 700, 698, 686, 684, 653, 604, 564, 548, 503, 462, 452, 439, 418, 414, 397, 387, 355, 339, 327, 292, 285, 284, 247, 246, 233, 231, 227, 225, 214, 197, 193, 33, 29, 995, 958, 884, 861, 841, 820, 808, 799, 784, 779, 766, 761, 760, 743, 734, 660, 647, 639, 619, 547, 502, 495, 493, 426, 390, 343, 325, 310, 308, 249, 205, 180, 176, 164, 163, 147, 145, 125, 116, 84, 40, 38, 0, 992, 982, 978, 955, 949, 921, 916, 878, 867, 839, 838, 815, 806, 796, 781, 751, 749, 741, 738, 732, 699, 677, 668, 634, 593, 583, 582, 549, 546, 492, 489, 486, 440, 437, 428, 399, 391, 371, 356, 326, 311, 268, 242, 228, 195, 161, 155, 141, 117, 112, 105, 92, 45, 7, 987, 945, 917, 904, 897, 894, 891, 858, 856, 853, 847, 845, 835, 828, 797, 790, 768, 740, 716, 705, 681, 611, 589, 555, 554, 552, 526, 514, 479, 478, 450, 435, 402, 345, 335, 289, 250, 243, 226, 210, 166, 162, 158, 149, 143, 130, 122, 66, 60, 51, 30, 22, 12, 9, 993, 970, 966, 951, 939, 930, 922, 910, 907, 893, 870, 851, 850, 846, 842, 794, 775, 759, 696, 692, 678, 656, 654, 644, 642, 631, 626, 621, 541, 528, 499, 474, 410, 374, 366, 332, 271, 256, 232, 230, 154, 131, 107, 83, 73, 57, 52, 31, 17, 953, 940, 933, 901, 890, 814, 802, 795, 793, 746, 729, 723, 715, 713, 709, 706, 695, 694, 693, 679, 675, 665, 627, 625, 614, 592, 579, 562, 550, 539, 535, 518, 507, 497, 464, 434, 423, 367, 352, 350, 333, 302, 300, 290, 267, 265, 200, 190, 170, 168, 153, 99, 77, 76, 72, 65, 59, 2, 986, 968, 959, 956, 941, 932, 931, 903, 898, 871, 869, 826, 817, 798, 780, 777, 758, 753, 750, 735, 720, 719, 683, 666, 603, 570, 557, 540, 508, 482, 451, 416, 412, 394, 392, 362, 358, 353, 319, 315, 275, 237, 236, 220, 101, 43] La sua cardinalità è = 764 L'algoritmo Greedy Min Vertex Cover ha impiegato =  3.82676005363\n",
      "Il min Vertex Cover è = [0, 12, 1, 4, 2, 7, 3, 8, 5, 16, 6, 28, 9, 20, 10, 13, 11, 30, 14, 22, 15, 31, 17, 25, 18, 19, 21, 24, 23, 35, 26, 47, 27, 34, 29, 32, 33, 48, 36, 39, 37, 49, 38, 42, 43, 46]  La sua cardinalità è = 46 L'algoritmo Matching Min Vertex Cover ha impiegato =  0.00884294509888\n",
      "Il min Vertex Cover è = [0, 6, 1, 2, 3, 18, 4, 25, 5, 49, 7, 23, 8, 28, 9, 22, 10, 56, 11, 14, 12, 31, 13, 15, 16, 37, 17, 59, 19, 27, 20, 26, 21, 40, 24, 47, 29, 30, 32, 50, 33, 58, 34, 53, 35, 68, 36, 38, 39, 44, 41, 62, 42, 69, 43, 63, 45, 51, 46, 78, 48, 54, 52, 85, 55, 73, 57, 81, 60, 64, 61, 84, 65, 92, 66, 71, 67, 90, 70, 74, 72, 80, 75, 94, 76, 98, 77, 88, 79, 83, 82, 89, 86, 96]  La sua cardinalità è = 94 L'algoritmo Matching Min Vertex Cover ha impiegato =  0.0223581790924\n",
      "Il min Vertex Cover è = [0, 63, 1, 113, 2, 58, 3, 155, 4, 136, 5, 93, 6, 48, 7, 103, 8, 82, 9, 110, 10, 71, 11, 295, 12, 262, 13, 78, 14, 66, 15, 45, 16, 19, 17, 160, 18, 129, 20, 51, 21, 122, 22, 88, 23, 38, 24, 80, 25, 373, 26, 59, 27, 73, 28, 75, 29, 154, 30, 132, 31, 135, 32, 44, 33, 106, 34, 77, 35, 141, 36, 41, 37, 55, 39, 142, 40, 49, 42, 52, 43, 202, 46, 85, 47, 164, 50, 108, 53, 67, 54, 131, 56, 86, 57, 76, 60, 65, 61, 127, 62, 64, 68, 123, 69, 117, 70, 196, 72, 163, 74, 353, 79, 104, 81, 101, 83, 84, 87, 176, 89, 126, 90, 212, 91, 365, 92, 203, 94, 119, 95, 336, 96, 250, 97, 396, 98, 439, 99, 138, 100, 311, 102, 243, 105, 112, 107, 168, 109, 286, 111, 232, 114, 265, 115, 206, 116, 247, 118, 124, 120, 152, 121, 178, 125, 471, 128, 190, 130, 288, 133, 229, 134, 254, 137, 172, 139, 143, 140, 497, 144, 299, 145, 161, 146, 226, 147, 170, 148, 213, 149, 216, 150, 248, 151, 192, 153, 167, 156, 227, 157, 302, 158, 261, 159, 458, 162, 234, 165, 297, 166, 246, 169, 292, 171, 252, 173, 475, 174, 201, 175, 245, 177, 274, 179, 208, 180, 371, 181, 269, 182, 341, 183, 319, 184, 221, 185, 367, 186, 361, 187, 205, 188, 214, 189, 273, 191, 197, 193, 240, 194, 499, 195, 200, 198, 268, 199, 244, 204, 210, 207, 364, 209, 454, 211, 218, 215, 279, 217, 266, 219, 228, 220, 306, 222, 281, 223, 272, 224, 280, 225, 329, 230, 242, 231, 358, 233, 307, 235, 260, 236, 298, 237, 290, 238, 456, 239, 350, 241, 321, 249, 334, 251, 495, 253, 351, 255, 314, 256, 368, 257, 328, 258, 310, 259, 348, 263, 489, 264, 391, 267, 296, 270, 404, 271, 326, 275, 359, 276, 382, 277, 291, 278, 309, 282, 317, 283, 491, 284, 356, 285, 381, 287, 430, 289, 401, 294, 343, 300, 337, 301, 410, 303, 330, 304, 444, 305, 318, 308, 335, 312, 354, 313, 448, 315, 316, 320, 412, 322, 378, 323, 342, 324, 492, 325, 390, 327, 405, 331, 449, 332, 338, 339, 407, 340, 387, 344, 355, 345, 389, 346, 376, 347, 473, 349, 409, 357, 468, 360, 363, 362, 431, 366, 472, 369, 425, 370, 392, 372, 474, 374, 488, 375, 395, 377, 457, 380, 414, 383, 480, 384, 386, 385, 402, 388, 400, 393, 408, 394, 481, 397, 447, 399, 446, 403, 419, 406, 484, 411, 426, 413, 433, 415, 424, 416, 435, 417, 434, 420, 470, 421, 464, 423, 453, 427, 462, 428, 498, 429, 459, 432, 496, 438, 450, 442, 487, 452, 455, 461, 467, 465, 483]  La sua cardinalità è = 472 L'algoritmo Matching Min Vertex Cover ha impiegato =  0.788973093033\n",
      "Il min Vertex Cover è = [0, 203, 1, 337, 2, 560, 3, 53, 4, 63, 5, 170, 6, 39, 7, 10, 8, 347, 9, 88, 11, 114, 12, 329, 13, 24, 14, 25, 15, 433, 16, 61, 17, 211, 18, 44, 19, 106, 20, 116, 21, 662, 22, 85, 23, 46, 26, 38, 27, 48, 28, 273, 29, 58, 30, 34, 31, 160, 32, 147, 33, 175, 35, 137, 36, 276, 37, 93, 40, 315, 41, 143, 42, 122, 43, 169, 45, 220, 47, 409, 49, 136, 50, 110, 51, 303, 52, 159, 54, 325, 55, 242, 56, 97, 57, 92, 59, 652, 60, 606, 62, 101, 64, 367, 65, 279, 66, 129, 67, 690, 68, 71, 69, 493, 70, 200, 72, 125, 73, 556, 74, 120, 75, 95, 76, 318, 77, 102, 78, 134, 79, 323, 80, 569, 81, 133, 82, 148, 83, 212, 84, 262, 86, 205, 87, 469, 89, 841, 90, 105, 91, 281, 94, 275, 96, 540, 98, 247, 99, 255, 100, 330, 103, 249, 104, 121, 107, 171, 108, 296, 109, 118, 111, 138, 112, 401, 113, 419, 115, 226, 117, 291, 119, 472, 123, 124, 126, 302, 127, 411, 128, 356, 130, 144, 131, 178, 132, 406, 135, 227, 139, 312, 140, 467, 141, 468, 142, 376, 145, 580, 146, 596, 149, 221, 150, 292, 151, 252, 152, 184, 153, 181, 154, 294, 155, 288, 156, 734, 157, 213, 158, 197, 161, 316, 162, 346, 163, 394, 164, 172, 165, 185, 166, 199, 167, 219, 168, 410, 173, 210, 174, 331, 176, 238, 177, 195, 179, 333, 180, 224, 182, 320, 183, 661, 186, 233, 187, 237, 188, 223, 189, 256, 190, 559, 191, 201, 192, 599, 193, 297, 194, 304, 196, 385, 198, 313, 202, 618, 204, 259, 206, 335, 207, 458, 208, 353, 209, 344, 214, 317, 215, 228, 216, 426, 217, 389, 218, 234, 222, 379, 225, 543, 229, 358, 230, 404, 231, 361, 232, 365, 235, 351, 236, 399, 239, 366, 240, 617, 241, 290, 243, 507, 244, 479, 245, 634, 246, 506, 248, 267, 250, 717, 251, 341, 253, 516, 254, 513, 257, 443, 258, 261, 260, 305, 263, 486, 264, 678, 265, 491, 266, 340, 268, 324, 269, 633, 270, 417, 271, 274, 272, 434, 277, 310, 278, 301, 280, 293, 282, 532, 283, 609, 284, 378, 285, 522, 286, 456, 287, 408, 289, 349, 295, 453, 298, 359, 299, 521, 300, 490, 306, 484, 307, 647, 308, 377, 309, 512, 311, 573, 314, 769, 319, 572, 321, 515, 322, 391, 326, 466, 327, 370, 328, 436, 332, 485, 334, 495, 336, 741, 338, 369, 339, 450, 342, 430, 343, 586, 345, 462, 348, 566, 350, 534, 352, 530, 354, 375, 355, 475, 357, 454, 360, 836, 362, 537, 363, 393, 364, 503, 368, 451, 371, 500, 372, 442, 373, 440, 374, 465, 380, 413, 381, 642, 382, 679, 383, 527, 384, 489, 386, 402, 387, 567, 388, 421, 390, 482, 392, 674, 395, 535, 396, 405, 397, 498, 398, 801, 400, 555, 403, 429, 407, 779, 412, 477, 414, 594, 415, 428, 416, 595, 418, 538, 420, 716, 422, 885, 423, 554, 424, 444, 425, 564, 427, 731, 431, 492, 432, 481, 435, 511, 437, 774, 438, 487, 439, 561, 441, 565, 445, 446, 447, 682, 448, 514, 449, 502, 452, 510, 455, 589, 457, 523, 459, 524, 460, 849, 461, 622, 463, 525, 464, 760, 470, 577, 471, 643, 473, 863, 474, 761, 476, 592, 478, 612, 480, 505, 483, 786, 488, 688, 494, 721, 496, 625, 497, 593, 499, 703, 501, 705, 504, 795, 508, 536, 509, 772, 517, 950, 518, 815, 519, 603, 520, 544, 526, 739, 528, 701, 529, 542, 531, 621, 533, 948, 539, 822, 541, 657, 545, 848, 546, 720, 547, 571, 548, 636, 549, 680, 550, 930, 551, 668, 552, 751, 553, 881, 557, 936, 558, 698, 562, 676, 563, 928, 568, 600, 570, 648, 574, 631, 575, 644, 576, 653, 578, 850, 579, 727, 581, 629, 582, 754, 583, 762, 584, 750, 585, 610, 587, 809, 588, 628, 590, 712, 591, 664, 597, 626, 598, 623, 601, 974, 602, 777, 604, 691, 605, 713, 607, 861, 608, 665, 611, 918, 613, 639, 614, 700, 615, 764, 616, 901, 619, 773, 620, 686, 624, 876, 627, 687, 630, 934, 632, 683, 635, 637, 638, 702, 640, 796, 641, 823, 645, 672, 646, 748, 649, 768, 650, 699, 651, 891, 654, 994, 655, 689, 656, 663, 658, 871, 659, 757, 660, 685, 666, 725, 667, 910, 669, 740, 670, 745, 671, 821, 673, 781, 675, 867, 677, 953, 681, 742, 684, 708, 693, 844, 694, 997, 695, 766, 696, 714, 697, 730, 704, 799, 706, 733, 707, 756, 709, 852, 710, 954, 711, 783, 715, 782, 718, 908, 719, 819, 723, 958, 724, 755, 726, 963, 728, 883, 729, 919, 732, 837, 735, 909, 736, 893, 737, 966, 738, 892, 743, 803, 744, 847, 746, 818, 747, 900, 749, 759, 752, 805, 753, 830, 758, 855, 763, 827, 765, 944, 767, 851, 770, 784, 771, 817, 775, 882, 785, 926, 787, 976, 788, 808, 789, 912, 792, 794, 793, 980, 797, 967, 798, 981, 800, 902, 802, 877, 807, 870, 810, 889, 811, 835, 812, 961, 813, 856, 816, 995, 824, 914, 825, 878, 826, 862, 829, 977, 832, 845, 833, 939, 834, 903, 838, 973, 839, 956, 842, 872, 846, 886, 853, 859, 854, 906, 857, 905, 858, 940, 860, 929, 864, 992, 866, 880, 869, 911, 873, 897, 874, 887, 875, 923, 884, 935, 888, 941, 890, 983, 895, 957, 896, 931, 898, 922, 899, 947, 907, 978, 920, 946, 924, 982, 938, 951, 942, 943, 960, 962, 968, 971, 979, 987, 986, 998]  La sua cardinalità è = 950 L'algoritmo Matching Min Vertex Cover ha impiegato =  4.72154712677\n"
     ]
    }
   ],
   "source": [
    "#Simulazione Greedy per i diversi valori di n\n",
    "path ='RandomGraphs/log/'\n",
    "lista_greedy_log =[]\n",
    "fil = ['input_50.txt','input_100.txt','input_500.txt','input_1000.txt']\n",
    "for i in fil:\n",
    "    dest = path+i\n",
    "    #print dest\n",
    "    out_dest = 'Outputs/Greedy/log/'\n",
    "    sol_gmvc,dur_g = GreedyMinVertexCover(dest)\n",
    "    lista_greedy_log.append([i,dur_g,sol_gmvc])\n",
    "    write_on_file_results(sol_gmvc,Greedy = True,path=out_dest,d=i)\n",
    "#Simulazione Matching per i diversi valori di n\n",
    "lista_match_log =[]\n",
    "path ='RandomGraphs/log/'\n",
    "for i in fil:\n",
    "    dest = path+i\n",
    "    #print dest\n",
    "    out_dest = 'Outputs/Matching/log/'\n",
    "    sol_mat,dur_g = Matching(dest)\n",
    "    lista_match_log.append([i,dur_g,sol_mat])\n",
    "    write_on_file_results(sol_mat,Matching = True,path=out_dest,d=i)"
   ]
  },
  {
   "cell_type": "code",
   "execution_count": 103,
   "metadata": {
    "collapsed": false
   },
   "outputs": [
    {
     "name": "stdout",
     "output_type": "stream",
     "text": [
      "+n----------Greedy------------Matching-------------+\n",
      "50 ---------- 0.00817203521729 ------------ 0.00884294509888 -------------|\n",
      "100 ---------- 0.0312669277191 ------------ 0.0223581790924 -------------|\n",
      "500 ---------- 0.665121078491 ------------ 0.788973093033 -------------|\n",
      "1000 ---------- 3.82676005363 ------------ 4.72154712677 -------------|\n",
      "+---------------------------------------------------+\n"
     ]
    }
   ],
   "source": [
    "print_solutions(lista_greedy_log,lista_match_log)"
   ]
  },
  {
   "cell_type": "code",
   "execution_count": null,
   "metadata": {
    "collapsed": false
   },
   "outputs": [],
   "source": []
  },
  {
   "cell_type": "markdown",
   "metadata": {
    "collapsed": false
   },
   "source": [
    "## Esecuzione su grafi con n = 50, 100, 200, 500, 1000 con $p = \\frac{1}{n}$"
   ]
  },
  {
   "cell_type": "code",
   "execution_count": 104,
   "metadata": {
    "collapsed": false
   },
   "outputs": [
    {
     "name": "stdout",
     "output_type": "stream",
     "text": [
      "Il min Vertex Cover è = [42, 19, 47, 46, 41, 8, 3, 45, 43, 40, 38, 37, 17, 49, 39, 35, 33, 32, 29, 23, 20, 18] La sua cardinalità è = 22 L'algoritmo Greedy Min Vertex Cover ha impiegato =  0.00227403640747\n",
      "Il min Vertex Cover è = [53, 98, 86, 91, 77, 49, 44, 21, 1, 97, 75, 73, 71, 56, 55, 43, 20, 9, 2, 93, 68, 66, 47, 42, 37, 33, 23, 11, 7, 3, 0, 99, 96, 90, 83, 74, 72, 62, 61, 60, 52, 50, 27] La sua cardinalità è = 43 L'algoritmo Greedy Min Vertex Cover ha impiegato =  0.00979495048523\n",
      "Il min Vertex Cover è = [360, 85, 30, 432, 318, 222, 86, 76, 49, 491, 479, 388, 375, 370, 358, 311, 295, 246, 226, 212, 163, 147, 486, 456, 446, 436, 431, 424, 421, 408, 379, 361, 342, 323, 266, 256, 244, 237, 175, 152, 145, 115, 93, 80, 24, 10, 3, 475, 472, 467, 466, 459, 430, 418, 417, 411, 395, 386, 385, 384, 376, 373, 365, 352, 340, 333, 322, 260, 252, 231, 219, 218, 188, 168, 144, 143, 142, 140, 126, 98, 72, 45, 44, 43, 497, 484, 473, 464, 457, 453, 447, 433, 415, 414, 413, 406, 405, 396, 393, 383, 371, 368, 338, 332, 326, 320, 319, 313, 310, 307, 304, 299, 288, 282, 280, 263, 254, 239, 229, 214, 206, 201, 177, 176, 174, 161, 151, 129, 92, 74, 62, 61, 42, 34, 27, 496, 494, 493, 488, 485, 483, 481, 476, 470, 469, 451, 443, 441, 440, 439, 437, 427, 426, 425, 409, 403, 402, 400, 399, 397, 390, 381, 374, 363, 362, 359, 354, 348, 336, 330, 308, 306, 305, 303, 298, 273, 271, 269, 265, 261, 258, 257, 255, 235, 230, 227, 223, 213, 202, 198, 180, 172, 167, 165, 157, 146, 137, 132, 97, 95, 81, 65] La sua cardinalità è = 202 L'algoritmo Greedy Min Vertex Cover ha impiegato =  0.176158905029\n",
      "Il min Vertex Cover è = [548, 366, 869, 546, 312, 53, 692, 649, 392, 307, 191, 17, 999, 863, 847, 827, 805, 795, 771, 764, 732, 691, 633, 593, 585, 583, 538, 526, 511, 447, 422, 406, 387, 373, 353, 286, 269, 251, 214, 66, 45, 995, 983, 970, 952, 937, 932, 926, 907, 898, 862, 853, 829, 806, 803, 776, 741, 711, 708, 673, 653, 652, 622, 595, 579, 559, 528, 441, 404, 386, 381, 361, 359, 349, 315, 224, 206, 140, 117, 108, 81, 64, 52, 11, 6, 979, 953, 930, 914, 895, 860, 859, 858, 856, 828, 824, 788, 786, 773, 761, 750, 719, 707, 687, 681, 676, 675, 663, 660, 647, 645, 629, 624, 614, 610, 606, 605, 602, 601, 597, 577, 569, 562, 561, 558, 539, 537, 525, 509, 501, 499, 498, 485, 469, 461, 454, 444, 436, 434, 426, 416, 407, 399, 385, 347, 340, 337, 335, 325, 324, 301, 299, 291, 287, 283, 280, 274, 266, 258, 254, 244, 236, 235, 232, 198, 161, 152, 148, 138, 120, 111, 99, 85, 62, 58, 46, 32, 996, 989, 985, 982, 974, 972, 969, 954, 947, 929, 921, 915, 912, 910, 908, 883, 873, 872, 871, 866, 855, 848, 838, 831, 816, 814, 813, 811, 808, 799, 797, 796, 783, 781, 780, 775, 770, 763, 759, 755, 751, 749, 726, 721, 720, 716, 706, 705, 704, 689, 672, 669, 658, 655, 650, 639, 638, 580, 573, 570, 566, 565, 553, 551, 543, 540, 519, 492, 471, 467, 453, 438, 435, 424, 420, 411, 380, 348, 341, 276, 268, 259, 257, 233, 219, 169, 167, 165, 162, 115, 94, 93, 73, 47, 23, 5, 992, 991, 990, 988, 986, 978, 975, 956, 955, 946, 945, 944, 942, 941, 936, 931, 920, 906, 896, 888, 885, 881, 879, 861, 854, 849, 845, 834, 823, 820, 815, 810, 807, 804, 802, 801, 798, 791, 785, 782, 777, 774, 758, 753, 748, 742, 739, 736, 727, 725, 724, 709, 699, 698, 694, 693, 690, 685, 683, 679, 677, 664, 659, 644, 637, 635, 632, 630, 626, 621, 613, 608, 592, 590, 575, 572, 571, 555, 554, 550, 536, 530, 529, 524, 523, 503, 497, 490, 483, 476, 466, 450, 449, 446, 437, 433, 431, 428, 414, 403, 391, 390, 379, 378, 369, 358, 357, 338, 333, 332, 330, 318, 309, 306, 297, 272, 267, 265, 256, 245, 243, 240, 238, 223, 209, 202, 194, 188, 183, 158, 141, 78] La sua cardinalità è = 405 L'algoritmo Greedy Min Vertex Cover ha impiegato =  0.875744104385\n",
      "Il min Vertex Cover è = [0, 32, 1, 20, 2, 29, 3, 25, 4, 40, 6, 46, 7, 8, 11, 41, 12, 37, 13, 33, 14, 18, 15, 35, 17, 36, 19, 26, 21, 45, 24, 47, 27, 39, 28, 42, 30, 38]  La sua cardinalità è = 38 L'algoritmo Matching Min Vertex Cover ha impiegato =  0.00696897506714\n",
      "Il min Vertex Cover è = [0, 21, 1, 37, 2, 6, 3, 80, 7, 14, 8, 83, 9, 24, 10, 27, 11, 26, 12, 62, 15, 23, 16, 52, 17, 43, 18, 98, 19, 60, 20, 84, 22, 44, 25, 53, 28, 91, 29, 61, 30, 66, 31, 42, 33, 85, 34, 49, 35, 75, 36, 68, 39, 86, 46, 93, 47, 76, 48, 73, 50, 71, 51, 72, 55, 82, 56, 92, 57, 74, 77, 96, 81, 97, 88, 99]  La sua cardinalità è = 76 L'algoritmo Matching Min Vertex Cover ha impiegato =  0.011626958847\n",
      "Il min Vertex Cover è = [0, 146, 2, 342, 3, 388, 6, 305, 7, 147, 8, 244, 9, 459, 10, 11, 12, 447, 13, 256, 14, 219, 15, 254, 16, 157, 17, 163, 18, 175, 19, 358, 23, 145, 24, 185, 25, 485, 26, 45, 27, 64, 28, 360, 29, 97, 30, 162, 34, 149, 35, 362, 36, 333, 37, 431, 39, 252, 41, 320, 42, 337, 43, 132, 44, 215, 46, 168, 48, 441, 49, 116, 50, 165, 51, 340, 52, 86, 53, 95, 54, 172, 56, 323, 57, 61, 58, 214, 59, 246, 60, 92, 62, 212, 63, 231, 66, 140, 67, 373, 68, 384, 70, 456, 71, 453, 72, 197, 73, 363, 74, 289, 75, 81, 76, 309, 77, 336, 78, 352, 80, 494, 82, 257, 83, 151, 84, 161, 85, 93, 87, 365, 88, 213, 91, 424, 94, 425, 96, 417, 98, 194, 99, 201, 100, 223, 101, 202, 102, 143, 103, 415, 105, 261, 106, 288, 110, 396, 111, 263, 112, 472, 113, 406, 115, 119, 117, 180, 120, 370, 121, 379, 125, 311, 126, 243, 129, 158, 130, 402, 131, 348, 133, 375, 137, 152, 142, 409, 144, 160, 148, 307, 153, 338, 154, 385, 155, 229, 156, 258, 159, 198, 164, 235, 166, 218, 169, 269, 170, 473, 171, 359, 173, 188, 176, 279, 177, 478, 178, 222, 181, 318, 182, 306, 183, 308, 184, 265, 186, 439, 190, 440, 191, 390, 193, 326, 199, 271, 204, 421, 206, 312, 207, 226, 221, 282, 224, 313, 225, 493, 227, 433, 230, 430, 232, 432, 233, 368, 234, 322, 236, 427, 237, 241, 239, 281, 247, 255, 249, 393, 253, 273, 260, 329, 266, 267, 268, 332, 270, 397, 272, 484, 275, 405, 277, 481, 283, 303, 286, 376, 290, 298, 291, 411, 292, 446, 295, 437, 299, 474, 300, 381, 302, 319, 310, 391, 314, 330, 317, 374, 321, 399, 324, 479, 325, 400, 346, 436, 377, 483, 380, 469, 386, 452, 389, 451, 395, 455, 407, 476, 413, 486, 416, 491, 423, 426, 457, 489, 462, 470, 464, 490, 467, 482]  La sua cardinalità è = 344 L'algoritmo Matching Min Vertex Cover ha impiegato =  0.303361177444\n",
      "Il min Vertex Cover è = [0, 471, 1, 17, 2, 399, 4, 694, 5, 56, 6, 267, 7, 866, 8, 309, 9, 272, 11, 279, 12, 658, 13, 461, 14, 318, 15, 944, 16, 953, 18, 141, 19, 622, 20, 81, 21, 301, 22, 996, 23, 352, 24, 577, 25, 341, 26, 115, 27, 511, 28, 660, 29, 536, 30, 848, 32, 877, 33, 561, 34, 414, 35, 188, 36, 194, 37, 526, 38, 575, 44, 381, 45, 338, 46, 765, 47, 556, 48, 209, 49, 315, 50, 378, 51, 593, 52, 607, 53, 207, 54, 741, 57, 936, 58, 260, 59, 353, 60, 117, 61, 66, 62, 563, 64, 419, 65, 687, 67, 333, 69, 78, 70, 583, 71, 167, 72, 633, 73, 263, 74, 771, 77, 538, 79, 525, 80, 755, 82, 610, 83, 403, 84, 954, 85, 898, 86, 540, 87, 245, 88, 94, 89, 776, 90, 862, 91, 624, 92, 269, 93, 280, 96, 669, 97, 691, 98, 550, 99, 140, 100, 233, 101, 704, 103, 357, 104, 523, 106, 453, 108, 402, 109, 152, 110, 655, 111, 532, 112, 390, 113, 265, 114, 243, 116, 391, 118, 437, 119, 736, 120, 296, 121, 989, 122, 601, 125, 614, 126, 202, 127, 706, 128, 244, 129, 983, 130, 158, 131, 232, 132, 306, 133, 476, 134, 711, 135, 565, 137, 387, 138, 680, 139, 579, 142, 595, 143, 392, 145, 366, 146, 553, 147, 373, 148, 843, 149, 349, 150, 337, 154, 597, 155, 254, 157, 585, 160, 416, 161, 396, 162, 359, 163, 770, 164, 224, 165, 542, 166, 763, 168, 214, 169, 480, 170, 995, 172, 783, 174, 411, 176, 559, 177, 795, 178, 406, 179, 764, 180, 820, 181, 885, 182, 235, 184, 268, 187, 407, 189, 759, 190, 649, 191, 429, 193, 422, 195, 330, 198, 868, 200, 637, 201, 673, 204, 436, 205, 791, 206, 463, 208, 986, 212, 251, 216, 240, 217, 276, 218, 859, 219, 448, 220, 446, 221, 860, 222, 810, 225, 907, 226, 386, 227, 499, 228, 632, 229, 307, 230, 854, 234, 236, 237, 546, 238, 869, 242, 497, 246, 258, 247, 985, 249, 676, 250, 626, 252, 608, 255, 266, 257, 447, 259, 662, 261, 681, 262, 946, 273, 558, 274, 963, 282, 813, 283, 730, 284, 796, 285, 664, 286, 415, 287, 506, 288, 572, 289, 379, 290, 930, 291, 806, 293, 485, 294, 528, 295, 590, 297, 498, 298, 955, 299, 345, 300, 566, 305, 644, 310, 785, 312, 452, 314, 332, 317, 895, 319, 732, 320, 433, 321, 444, 322, 910, 323, 829, 324, 445, 325, 479, 331, 999, 334, 449, 335, 702, 340, 560, 346, 580, 347, 893, 348, 441, 354, 652, 360, 380, 361, 911, 365, 537, 367, 739, 368, 431, 370, 569, 371, 650, 375, 466, 376, 748, 377, 685, 382, 708, 383, 906, 385, 833, 389, 562, 395, 719, 398, 555, 404, 956, 405, 816, 408, 847, 409, 621, 412, 838, 417, 726, 420, 494, 423, 742, 424, 772, 425, 921, 426, 886, 427, 428, 430, 630, 432, 815, 434, 774, 435, 491, 438, 821, 439, 970, 442, 804, 443, 450, 454, 891, 457, 629, 459, 677, 464, 645, 467, 745, 469, 852, 472, 808, 473, 853, 474, 863, 477, 693, 486, 698, 488, 690, 492, 547, 496, 920, 501, 994, 507, 638, 508, 758, 509, 960, 510, 554, 512, 761, 513, 781, 517, 947, 519, 809, 520, 725, 521, 823, 530, 721, 534, 991, 535, 683, 539, 695, 543, 731, 548, 643, 549, 613, 551, 962, 570, 603, 573, 832, 574, 990, 576, 969, 581, 705, 586, 753, 587, 827, 589, 915, 594, 749, 606, 666, 616, 828, 617, 952, 623, 982, 636, 805, 639, 824, 642, 788, 647, 718, 648, 912, 653, 701, 657, 679, 663, 778, 665, 750, 675, 846, 688, 929, 692, 722, 707, 733, 712, 942, 715, 978, 720, 897, 735, 871, 737, 975, 740, 861, 744, 937, 756, 831, 773, 917, 780, 842, 790, 872, 797, 938, 799, 900, 814, 825, 819, 988, 830, 879, 851, 888, 858, 889, 884, 932, 896, 914, 925, 992]  La sua cardinalità è = 678 L'algoritmo Matching Min Vertex Cover ha impiegato =  1.3217549324\n"
     ]
    }
   ],
   "source": [
    "#Simulazione Greedy per i diversi valori di n\n",
    "path ='RandomGraphs/inv/'\n",
    "lista_greedy_inv =[]\n",
    "fil = ['input_50.txt','input_100.txt','input_500.txt','input_1000.txt']\n",
    "for i in fil:\n",
    "    dest = path+i\n",
    "    #print dest\n",
    "    out_dest = 'Outputs/Greedy/inv/'\n",
    "    sol_gmvc,dur_g = GreedyMinVertexCover(dest)\n",
    "    lista_greedy_inv.append([i,dur_g,sol_gmvc])\n",
    "    write_on_file_results(sol_gmvc,Greedy = True,path=out_dest,d=i)\n",
    "#Simulazione Matching per i diversi valori di n\n",
    "lista_match_inv =[]\n",
    "path ='RandomGraphs/inv/'\n",
    "for i in fil:\n",
    "    dest = path+i\n",
    "    #print dest\n",
    "    out_dest = 'Outputs/Matching/inv/'\n",
    "    sol_mat,dur_g = Matching(dest)\n",
    "    lista_match_inv.append([i,dur_g,sol_mat])\n",
    "    write_on_file_results(sol_mat,Matching = True,path=out_dest,d=i)"
   ]
  },
  {
   "cell_type": "code",
   "execution_count": 105,
   "metadata": {
    "collapsed": false
   },
   "outputs": [
    {
     "name": "stdout",
     "output_type": "stream",
     "text": [
      "+n----------Greedy------------Matching-------------+\n",
      "50 ---------- 0.00227403640747 ------------ 0.00696897506714 -------------|\n",
      "100 ---------- 0.00979495048523 ------------ 0.011626958847 -------------|\n",
      "500 ---------- 0.176158905029 ------------ 0.303361177444 -------------|\n",
      "1000 ---------- 0.875744104385 ------------ 1.3217549324 -------------|\n",
      "+---------------------------------------------------+\n"
     ]
    }
   ],
   "source": [
    "print_solutions(lista_greedy_inv,lista_match_inv)"
   ]
  },
  {
   "cell_type": "markdown",
   "metadata": {
    "collapsed": false
   },
   "source": [
    "# Analisi delle perfomance"
   ]
  },
  {
   "cell_type": "markdown",
   "metadata": {
    "collapsed": false
   },
   "source": [
    "$p = \\frac{1}{n}$\n",
    "<table style=\"width:100%\">\n",
    "  <tr>\n",
    "    <th>n</th>\n",
    "    <th>Greedy</th> \n",
    "    <th>Matching</th>\n",
    "    <th>Size VC Greedy</th>\n",
    "    <th>Size VC Matching</th>\n",
    "  </tr>\n",
    "  <tr>\n",
    "    <td>50</td>\n",
    "    <td>0.0522010326385</td> \n",
    "    <td>0.0805299282074</td>\n",
    "    <td>22</td>\n",
    "    <td>38</td>\n",
    "  </tr>\n",
    "  <tr>\n",
    "    <td>100</td>\n",
    "    <td>0.479500055313</td> \n",
    "    <td>0.485810995102</td>\n",
    "    <td>43</td> \n",
    "    <td>76</td>\n",
    "  </tr>\n",
    "   <tr>\n",
    "    <td>500</td>\n",
    "    <td>54.3053991795</td> \n",
    "    <td>53.9215009212</td>\n",
    "    <td>202</td> \n",
    "    <td>344</td>\n",
    "  </tr>\n",
    "   <tr>\n",
    "    <td>1000</td>\n",
    "    <td>134.326865911</td> \n",
    "    <td>125.709211826</td>\n",
    "    <td>405</td> \n",
    "    <td>678</td>\n",
    "  </tr>\n",
    "</table>\n",
    "\n",
    "$p = \\frac{1}{\\sqrt{n}}$\n",
    "\n",
    "<table style=\"width:100%\">\n",
    "  <tr>\n",
    "    <th>n</th>\n",
    "    <th>Greedy</th> \n",
    "    <th>Matching</th>\n",
    "    <th>Size VC Greedy</th>\n",
    "    <th>Size VC Matching</th>\n",
    "  </tr>\n",
    "  <tr>\n",
    "    <td>50</td>\n",
    "    <td>0.0155920982361</td> \n",
    "    <td>0.0091769695282</td>\n",
    "    <td>39</td>\n",
    "    <td>48</td>\n",
    "  </tr>\n",
    "  <tr>\n",
    "    <td>100</td>\n",
    "    <td>0.0436961650848</td> \n",
    "    <td>0.0482280254364</td>\n",
    "    <td>83</td> \n",
    "    <td>96</td>\n",
    "  </tr>\n",
    "   <tr>\n",
    "    <td>500</td>\n",
    "    <td>2.75884008408</td> \n",
    "    <td>2.86245799065</td>\n",
    "    <td>452</td> \n",
    "    <td>494</td>\n",
    "  </tr>\n",
    "   <tr>\n",
    "    <td>1000</td>\n",
    "    <td>14.9498388767</td> \n",
    "    <td>17.0957140923</td>\n",
    "    <td>930</td> \n",
    "    <td>986</td>\n",
    "  </tr>\n",
    "</table>\n",
    " \n",
    "$p = \\frac{log(n)}{n}$\n",
    "\n",
    "<table style=\"width:100%\">\n",
    "  <tr>\n",
    "    <th>n</th>\n",
    "    <th>Greedy</th> \n",
    "    <th>Matching</th>\n",
    "    <th>Size VC Greedy</th>\n",
    "    <th>Size VC Matching</th>\n",
    "  </tr>\n",
    "  <tr>\n",
    "    <td>50</td>\n",
    "    <td>0.00817203521729</td> \n",
    "    <td>0.00884294509888</td>\n",
    "    <td>36</td>\n",
    "    <td>46</td>\n",
    "  </tr>\n",
    "  <tr>\n",
    "    <td>100</td>\n",
    "    <td>0.0312669277191</td> \n",
    "    <td>0.0223581790924</td>\n",
    "    <td>69</td> \n",
    "    <td>94</td>\n",
    "  </tr>\n",
    "   <tr>\n",
    "    <td>500</td>\n",
    "    <td>0.665121078491</td> \n",
    "    <td>0.788973093033</td>\n",
    "    <td>380</td> \n",
    "    <td>472</td>\n",
    "  </tr>\n",
    "   <tr>\n",
    "    <td>1000</td>\n",
    "    <td>3.82676005363</td> \n",
    "    <td>4.72154712677</td>\n",
    "    <td>764</td> \n",
    "    <td>950</td>\n",
    "  </tr>\n",
    "</table>\n",
    "\n",
    "p = $\\frac{1}{2}$\n",
    "\n",
    "<table style=\"width:100%\">\n",
    "  <tr>\n",
    "    <th>n</th>\n",
    "    <th>Greedy</th> \n",
    "    <th>Matching</th>\n",
    "    <th>Size VC Greedy</th>\n",
    "    <th>Size VC Matching</th>\n",
    "  </tr>\n",
    "  <tr>\n",
    "    <td>50</td>\n",
    "    <td>0.0155920982361</td> \n",
    "    <td>0.0091769695282</td>\n",
    "    <td>39</td>\n",
    "    <td>48</td>\n",
    "  </tr>\n",
    "  <tr>\n",
    "    <td>100</td>\n",
    "    <td>0.0436961650848</td> \n",
    "    <td>0.0482280254364</td>\n",
    "    <td>83</td> \n",
    "    <td>96</td>\n",
    "  </tr>\n",
    "   <tr>\n",
    "    <td>500</td>\n",
    "    <td>2.75884008408</td> \n",
    "    <td>2.86245799065</td>\n",
    "    <td>452</td> \n",
    "    <td>494</td>\n",
    "  </tr>\n",
    "   <tr>\n",
    "    <td>1000</td>\n",
    "    <td>14.9498388767</td> \n",
    "    <td>17.0957140923</td>\n",
    "    <td>930</td> \n",
    "    <td>986</td>\n",
    "  </tr>\n",
    "</table>\n",
    " \n",
    "$p = \\frac{log(n)}{n}$\n",
    "\n",
    "<table style=\"width:100%\">\n",
    "  <tr>\n",
    "    <th>n</th>\n",
    "    <th>Greedy</th> \n",
    "    <th>Matching</th>\n",
    "    <th>Size VC Greedy</th>\n",
    "    <th>Size VC Matching</th>\n",
    "  </tr>\n",
    "  <tr>\n",
    "    <td>50</td>\n",
    "    <td>0.0522010326385</td> \n",
    "    <td>0.0805299282074</td>\n",
    "    <td>48</td>\n",
    "    <td>50</td>\n",
    "  </tr>\n",
    "  <tr>\n",
    "    <td>100</td>\n",
    "    <td>0.479500055313</td> \n",
    "    <td>0.485810995102</td>\n",
    "    <td>98</td> \n",
    "    <td>100</td>\n",
    "  </tr>\n",
    "   <tr>\n",
    "    <td>500</td>\n",
    "    <td>54.3053991795</td> \n",
    "    <td>53.9215009212</td>\n",
    "    <td>496</td> \n",
    "    <td>500</td>\n",
    "  </tr>\n",
    "   <tr>\n",
    "    <td>1000</td>\n",
    "    <td>134.326865911</td> \n",
    "    <td>125.709211826</td>\n",
    "    <td>991</td> \n",
    "    <td>998</td>\n",
    "  </tr>\n",
    "</table>\n",
    "\n"
   ]
  },
  {
   "cell_type": "markdown",
   "metadata": {
    "collapsed": false
   },
   "source": [
    "### Osservazioni\n",
    "Osserviamo che l'algoritmo greedy trova dei vertex cover di dimensione leggermente più piccola rispetto all'algoritmo di matching.\n",
    "Per quanto riguada le performance temporali essi differiscono di poco. "
   ]
  },
  {
   "cell_type": "markdown",
   "metadata": {
    "collapsed": false
   },
   "source": [
    "## Osservazioni algoritmo esaustivo\n",
    "Possiamo utilizzare tale algoritmo per istanze con un numero di nodi non troppo elevato. Ovviamente non è stato possibile effettuare delle simulazioni del bruteforce con la classe di grafi casuali.\n",
    "Quando arriviamo ad un n relativamente alto, calcolarsi l'insieme delle parti, ovvero, l'insieme di tutti i possibili sottoinsiemi candidati al test di cover, diventa impossibile. \n",
    "Ad esempio, utilizzando $n=50$ abbiamo che l'insieme potenza è $2^n$ ed è un insieme di cardinalità 1125899906842624."
   ]
  },
  {
   "cell_type": "markdown",
   "metadata": {
    "collapsed": false
   },
   "source": []
  },
  {
   "cell_type": "code",
   "execution_count": null,
   "metadata": {
    "collapsed": false
   },
   "outputs": [],
   "source": []
  },
  {
   "cell_type": "code",
   "execution_count": null,
   "metadata": {
    "collapsed": false
   },
   "outputs": [],
   "source": []
  },
  {
   "cell_type": "code",
   "execution_count": null,
   "metadata": {
    "collapsed": true
   },
   "outputs": [],
   "source": []
  },
  {
   "cell_type": "code",
   "execution_count": 315,
   "metadata": {
    "collapsed": false
   },
   "outputs": [],
   "source": []
  },
  {
   "cell_type": "code",
   "execution_count": 303,
   "metadata": {
    "collapsed": true
   },
   "outputs": [],
   "source": []
  },
  {
   "cell_type": "code",
   "execution_count": null,
   "metadata": {
    "collapsed": false
   },
   "outputs": [],
   "source": []
  },
  {
   "cell_type": "code",
   "execution_count": null,
   "metadata": {
    "collapsed": false,
    "scrolled": true
   },
   "outputs": [],
   "source": []
  },
  {
   "cell_type": "code",
   "execution_count": 320,
   "metadata": {
    "collapsed": false
   },
   "outputs": [],
   "source": []
  },
  {
   "cell_type": "code",
   "execution_count": 228,
   "metadata": {
    "collapsed": false
   },
   "outputs": [],
   "source": []
  },
  {
   "cell_type": "code",
   "execution_count": null,
   "metadata": {
    "collapsed": false
   },
   "outputs": [],
   "source": []
  },
  {
   "cell_type": "code",
   "execution_count": null,
   "metadata": {
    "collapsed": false
   },
   "outputs": [],
   "source": []
  },
  {
   "cell_type": "code",
   "execution_count": null,
   "metadata": {
    "collapsed": false
   },
   "outputs": [],
   "source": []
  },
  {
   "cell_type": "code",
   "execution_count": null,
   "metadata": {
    "collapsed": false
   },
   "outputs": [],
   "source": []
  },
  {
   "cell_type": "code",
   "execution_count": null,
   "metadata": {
    "collapsed": true
   },
   "outputs": [],
   "source": []
  }
 ],
 "metadata": {
  "anaconda-cloud": {},
  "kernelspec": {
   "display_name": "Python [gl-env]",
   "language": "python",
   "name": "Python [gl-env]"
  },
  "language_info": {
   "codemirror_mode": {
    "name": "ipython",
    "version": 2
   },
   "file_extension": ".py",
   "mimetype": "text/x-python",
   "name": "python",
   "nbconvert_exporter": "python",
   "pygments_lexer": "ipython2",
   "version": "2.7.12"
  }
 },
 "nbformat": 4,
 "nbformat_minor": 0
}
